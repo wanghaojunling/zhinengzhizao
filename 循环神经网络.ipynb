{
 "cells": [
  {
   "cell_type": "markdown",
   "id": "cba9a1d3-7d33-42c0-bb4a-6756c2ebe0f1",
   "metadata": {},
   "source": [
    "# 序列的表示方法"
   ]
  },
  {
   "cell_type": "code",
   "execution_count": 67,
   "id": "1c72060e-b0fe-4df5-8c5c-d846c279dc3a",
   "metadata": {},
   "outputs": [],
   "source": [
    "import tensorflow as tf\n",
    "from tensorflow.keras import layers\n",
    "from tensorflow import keras"
   ]
  },
  {
   "cell_type": "code",
   "execution_count": 5,
   "id": "dded0f2c-3da3-4692-8e32-0f8a5f5f9d88",
   "metadata": {},
   "outputs": [
    {
     "name": "stdout",
     "output_type": "stream",
     "text": [
      "原始的x为: tf.Tensor([0 1 2 3 4 5], shape=(6,), dtype=int32)\n",
      "打乱顺序后的x为: tf.Tensor([0 3 5 1 4 2], shape=(6,), dtype=int32)\n"
     ]
    }
   ],
   "source": [
    "x=tf.range(6)\n",
    "print(\"原始的x为:\", x)\n",
    "x_new=tf.random.shuffle(x)\n",
    "print(\"打乱顺序后的x为:\", x_new)"
   ]
  },
  {
   "cell_type": "code",
   "execution_count": 27,
   "id": "aab46d8c-ecdd-46b0-bdf9-62c651eb6cae",
   "metadata": {},
   "outputs": [],
   "source": [
    "net = layers.Embedding(10, 4)"
   ]
  },
  {
   "cell_type": "code",
   "execution_count": 28,
   "id": "31d5e70b-5013-499a-9df3-8ce55d0398b6",
   "metadata": {},
   "outputs": [
    {
     "ename": "AttributeError",
     "evalue": "'Embedding' object has no attribute 'embeddings'",
     "output_type": "error",
     "traceback": [
      "\u001b[1;31m---------------------------------------------------------------------------\u001b[0m",
      "\u001b[1;31mAttributeError\u001b[0m                            Traceback (most recent call last)",
      "Cell \u001b[1;32mIn [28], line 2\u001b[0m\n\u001b[0;32m      1\u001b[0m \u001b[38;5;66;03m# 这里未进行过嵌入计算所以查看属性时会报错：\u001b[39;00m\n\u001b[1;32m----> 2\u001b[0m \u001b[43mnet\u001b[49m\u001b[38;5;241;43m.\u001b[39;49m\u001b[43membeddings\u001b[49m\n",
      "\u001b[1;31mAttributeError\u001b[0m: 'Embedding' object has no attribute 'embeddings'"
     ]
    }
   ],
   "source": [
    "# 这里未进行过嵌入计算所以查看属性时会报错：\n",
    "net.embeddings"
   ]
  },
  {
   "cell_type": "code",
   "execution_count": 29,
   "id": "a7cdc5ea-79e1-4086-9e77-d7aa14946506",
   "metadata": {},
   "outputs": [
    {
     "data": {
      "text/plain": [
       "TensorShape([6, 4])"
      ]
     },
     "execution_count": 29,
     "metadata": {},
     "output_type": "execute_result"
    }
   ],
   "source": [
    "out = net(x)\n",
    "out.shape"
   ]
  },
  {
   "cell_type": "code",
   "execution_count": 30,
   "id": "f51d39d7-298f-4581-a045-a042834383c7",
   "metadata": {},
   "outputs": [
    {
     "data": {
      "text/plain": [
       "True"
      ]
     },
     "execution_count": 30,
     "metadata": {},
     "output_type": "execute_result"
    }
   ],
   "source": [
    "net.embeddings.trainable"
   ]
  },
  {
   "cell_type": "code",
   "execution_count": 32,
   "id": "79e7159e-5634-4493-bc3d-df2118f295c8",
   "metadata": {},
   "outputs": [
    {
     "data": {
      "text/plain": [
       "<tf.Variable 'embedding_3/embeddings:0' shape=(10, 4) dtype=float32, numpy=\n",
       "array([[-0.02187785, -0.00677528, -0.02791535, -0.02423965],\n",
       "       [ 0.03068382, -0.00337893,  0.04433299,  0.04109489],\n",
       "       [-0.03271063, -0.00235771,  0.01263262, -0.02691369],\n",
       "       [ 0.0208908 , -0.04512967,  0.01509284,  0.04125253],\n",
       "       [-0.01142089,  0.0230948 ,  0.0236928 , -0.01944438],\n",
       "       [ 0.02946445, -0.02851324,  0.01149063, -0.04480273],\n",
       "       [-0.00597415,  0.01308123,  0.03498724,  0.01676054],\n",
       "       [-0.03161579, -0.03993338, -0.00774516,  0.00422759],\n",
       "       [ 0.03124628, -0.04395057, -0.0307188 ,  0.00938842],\n",
       "       [-0.02727023,  0.03445312, -0.02206357, -0.03729154]],\n",
       "      dtype=float32)>"
      ]
     },
     "execution_count": 32,
     "metadata": {},
     "output_type": "execute_result"
    }
   ],
   "source": [
    "# 经过计算后，网络进行了初始化，生成了10个单词，每一个单词4维的嵌入表示，\n",
    "# 注意，这里x只有6个数据，但是嵌入层的表示有10个单词。\n",
    "net.embeddings"
   ]
  },
  {
   "cell_type": "code",
   "execution_count": 33,
   "id": "6415740f-3944-4aa9-b7c6-ce25c7159f39",
   "metadata": {},
   "outputs": [
    {
     "ename": "NameError",
     "evalue": "name 'load_embed' is not defined",
     "output_type": "error",
     "traceback": [
      "\u001b[1;31m---------------------------------------------------------------------------\u001b[0m",
      "\u001b[1;31mNameError\u001b[0m                                 Traceback (most recent call last)",
      "Cell \u001b[1;32mIn [33], line 1\u001b[0m\n\u001b[1;32m----> 1\u001b[0m embed_glove \u001b[38;5;241m=\u001b[39m \u001b[43mload_embed\u001b[49m(\u001b[38;5;124m'\u001b[39m\u001b[38;5;124mglove.6B.50d.txt\u001b[39m\u001b[38;5;124m'\u001b[39m)\n",
      "\u001b[1;31mNameError\u001b[0m: name 'load_embed' is not defined"
     ]
    }
   ],
   "source": [
    "embed_glove = load_embed('glove.6B.50d.txt')"
   ]
  },
  {
   "cell_type": "code",
   "execution_count": null,
   "id": "3edcb80a-cf76-4d9a-97b2-4090c04dc04c",
   "metadata": {},
   "outputs": [],
   "source": []
  },
  {
   "cell_type": "code",
   "execution_count": null,
   "id": "f397baa0-f968-42e6-8314-d716481d7daa",
   "metadata": {},
   "outputs": [],
   "source": []
  },
  {
   "cell_type": "code",
   "execution_count": null,
   "id": "ee931bdd-9f6d-4f6f-baf0-217bf12bd557",
   "metadata": {},
   "outputs": [],
   "source": []
  },
  {
   "cell_type": "code",
   "execution_count": 35,
   "id": "dac9eeb4-fa11-4c6b-9abe-1d2865c09be4",
   "metadata": {},
   "outputs": [],
   "source": [
    "cell = layers.SimpleRNNCell(3)\n",
    "cell.build(input_shape=(None,4))"
   ]
  },
  {
   "cell_type": "code",
   "execution_count": 37,
   "id": "6ba06876-b3c3-48b9-985a-20cd5969711e",
   "metadata": {},
   "outputs": [
    {
     "data": {
      "text/plain": [
       "[<tf.Variable 'kernel:0' shape=(4, 3) dtype=float32, numpy=\n",
       " array([[-0.55899704,  0.04168248,  0.4960773 ],\n",
       "        [-0.66414547,  0.86173284,  0.7056141 ],\n",
       "        [-0.50976145,  0.25054467, -0.8122277 ],\n",
       "        [-0.61425304, -0.8666443 ,  0.38182127]], dtype=float32)>,\n",
       " <tf.Variable 'recurrent_kernel:0' shape=(3, 3) dtype=float32, numpy=\n",
       " array([[-0.73585975, -0.00368365,  0.67712396],\n",
       "        [ 0.590789  ,  0.4851416 ,  0.64467496],\n",
       "        [-0.33087584,  0.87442774, -0.35482   ]], dtype=float32)>,\n",
       " <tf.Variable 'bias:0' shape=(3,) dtype=float32, numpy=array([0., 0., 0.], dtype=float32)>]"
      ]
     },
     "execution_count": 37,
     "metadata": {},
     "output_type": "execute_result"
    }
   ],
   "source": [
    "cell.trainable_variables"
   ]
  },
  {
   "attachments": {
    "9a80faf0-5b21-4142-8aa6-7da90c1546e6.png": {
     "image/png": "[encoded data removed]"
    }
   },
   "cell_type": "markdown",
   "id": "f145678d-791e-4d5f-b564-4b6630b78bdf",
   "metadata": {},
   "source": [
    "![image.png](attachment:9a80faf0-5b21-4142-8aa6-7da90c1546e6.png)"
   ]
  },
  {
   "attachments": {
    "5580f059-56db-4db0-89e1-5f1feb3106bb.png": {
     "image/png": "[encoded data removed]"
    }
   },
   "cell_type": "markdown",
   "id": "286e5b12-ae65-4456-8d69-cb0f3fda55b5",
   "metadata": {},
   "source": [
    "![image.png](attachment:5580f059-56db-4db0-89e1-5f1feb3106bb.png)"
   ]
  },
  {
   "attachments": {
    "636a0e2d-648b-4012-9e25-412466e1cda5.png": {
     "image/png": "[encoded data removed]"
    }
   },
   "cell_type": "markdown",
   "id": "4762facf-8e72-4cb8-883a-cbcd0f7c7544",
   "metadata": {},
   "source": [
    "![image.png](attachment:636a0e2d-648b-4012-9e25-412466e1cda5.png)"
   ]
  },
  {
   "cell_type": "code",
   "execution_count": 38,
   "id": "741d413d-7f8f-445a-89d9-5805ab3fb1a0",
   "metadata": {},
   "outputs": [],
   "source": [
    "# 初始化状态向量，用列表包裹，统一格式\n",
    "h0 = [tf.zeros([4, 64])]\n",
    "x = tf.random.normal([4, 80, 100]) # 生成输入张量，4 个80 单词的句子\n",
    "xt = x[:,0,:] # 所有句子的第1 个单词"
   ]
  },
  {
   "cell_type": "code",
   "execution_count": 39,
   "id": "4dcbe548-5f35-45a0-8ba8-ac08eca40d55",
   "metadata": {},
   "outputs": [
    {
     "name": "stdout",
     "output_type": "stream",
     "text": [
      "(4, 64) (4, 64)\n"
     ]
    }
   ],
   "source": [
    "# 构建输入特征n=100,序列长度s=80,状态长度=64 的Cell\n",
    "cell = layers.SimpleRNNCell(64)\n",
    "out, h1 = cell(xt, h0) # 前向计算\n",
    "print(out.shape, h1[0].shape)"
   ]
  },
  {
   "cell_type": "code",
   "execution_count": 40,
   "id": "4d99029c-a1da-4a26-8dde-26bc20bc8084",
   "metadata": {},
   "outputs": [
    {
     "name": "stdout",
     "output_type": "stream",
     "text": [
      "2089798160000 2089798160000\n"
     ]
    }
   ],
   "source": [
    "print(id(out), id(h1[0]))"
   ]
  },
  {
   "cell_type": "code",
   "execution_count": null,
   "id": "895d8d6c-f2ff-47ef-b58d-c2394c8982b2",
   "metadata": {},
   "outputs": [],
   "source": []
  },
  {
   "cell_type": "code",
   "execution_count": 41,
   "id": "9e865cbf-52da-42ad-9bee-fb0280b20ff5",
   "metadata": {},
   "outputs": [],
   "source": [
    "h = h0 # h 保存每个时间戳上的状态向量列表\n",
    "# 在序列长度的维度解开输入，得到xt:[b,n]\n",
    "for xt in tf.unstack(x, axis=1):\n",
    "    out, h = cell(xt, h) # 前向计算,out 和h 均被覆盖\n",
    "# 最终输出可以聚合每个时间戳上的输出，也可以只取最后时间戳的输出\n",
    "out = out"
   ]
  },
  {
   "cell_type": "code",
   "execution_count": 43,
   "id": "c1c67266-a24d-4d3f-9786-0b4e252847d5",
   "metadata": {},
   "outputs": [
    {
     "data": {
      "text/plain": [
       "TensorShape([4, 64])"
      ]
     },
     "execution_count": 43,
     "metadata": {},
     "output_type": "execute_result"
    }
   ],
   "source": [
    "out.shape"
   ]
  },
  {
   "cell_type": "markdown",
   "id": "ecfb8b3f-8fa4-4ac7-933d-13b3b009e84a",
   "metadata": {},
   "source": [
    "## 多层SimpleRNNCell 网络"
   ]
  },
  {
   "cell_type": "code",
   "execution_count": 45,
   "id": "61d2a6dc-27c8-4766-9d23-167e5247a1b5",
   "metadata": {},
   "outputs": [],
   "source": [
    "x = tf.random.normal([4,80,100])\n",
    "xt = x[:,0,:] # 取第一个时间戳的输入x0\n",
    "# 构建2 个Cell,先cell0,后cell1，内存状态向量长度都为64\n",
    "cell0 = layers.SimpleRNNCell(64)\n",
    "cell1 = layers.SimpleRNNCell(64)\n",
    "h0 = [tf.zeros([4,64])] # cell0 的初始状态向量\n",
    "h1 = [tf.zeros([4,64])] # cell1 的初始状态向量"
   ]
  },
  {
   "cell_type": "code",
   "execution_count": 46,
   "id": "2a9b6fc5-aaca-449a-8953-aeac354770f7",
   "metadata": {},
   "outputs": [],
   "source": [
    "for xt in tf.unstack(x, axis=1):\n",
    "    # xt 作为输入，输出为out0\n",
    "    out0, h0 = cell0(xt, h0)\n",
    "    # 上一个cell 的输出out0 作为本cell 的输入\n",
    "    out1, h1 = cell1(out0, h1)"
   ]
  },
  {
   "cell_type": "code",
   "execution_count": 47,
   "id": "522b2844-1a1f-4406-bb96-ec1fd0239466",
   "metadata": {},
   "outputs": [],
   "source": [
    "# 保存上一层的所有时间戳上面的输出\n",
    "middle_sequences = []"
   ]
  },
  {
   "cell_type": "code",
   "execution_count": 48,
   "id": "d6d1691a-4cd6-48a4-b4e6-d190aa29d6c3",
   "metadata": {},
   "outputs": [],
   "source": [
    "# 计算第一层的所有时间戳上的输出，并保存\n",
    "for xt in tf.unstack(x, axis=1):\n",
    "    out0, h0 = cell0(xt, h0)\n",
    "    middle_sequences.append(out0)"
   ]
  },
  {
   "cell_type": "code",
   "execution_count": 49,
   "id": "70e927bd-64dd-4a6e-8866-0ea2a7cdeb82",
   "metadata": {},
   "outputs": [],
   "source": [
    "# 如果不是末层，需要保存所有时间戳上面的输出\n",
    "for xt in middle_sequences:\n",
    "    out1, h1 = cell1(xt, h1)"
   ]
  },
  {
   "cell_type": "code",
   "execution_count": 59,
   "id": "31b4375f-28ec-4605-a863-b14841323ba9",
   "metadata": {},
   "outputs": [
    {
     "name": "stdout",
     "output_type": "stream",
     "text": [
      "(4, 64)\n"
     ]
    },
    {
     "data": {
      "text/plain": [
       "1"
      ]
     },
     "execution_count": 59,
     "metadata": {},
     "output_type": "execute_result"
    }
   ],
   "source": [
    "print(out1.shape)\n",
    "len(h1)"
   ]
  },
  {
   "cell_type": "code",
   "execution_count": null,
   "id": "6bf73017-8ca4-453e-a0c5-1d21f55f909a",
   "metadata": {},
   "outputs": [],
   "source": []
  },
  {
   "cell_type": "code",
   "execution_count": 63,
   "id": "a830ce5e-e165-4880-9f91-4d662c3cf2d9",
   "metadata": {},
   "outputs": [
    {
     "data": {
      "text/plain": [
       "TensorShape([4, 64])"
      ]
     },
     "execution_count": 63,
     "metadata": {},
     "output_type": "execute_result"
    }
   ],
   "source": [
    "layer = layers.SimpleRNN(64) # 创建状态向量长度为64 的SimpleRNN 层\n",
    "x = tf.random.normal([4, 80, 100])\n",
    "out = layer(x) # 和普通卷积网络一样，一行代码即可获得输出\n",
    "out.shape"
   ]
  },
  {
   "cell_type": "code",
   "execution_count": 65,
   "id": "65d6ddf1-163d-43f4-a34b-21784395bc72",
   "metadata": {},
   "outputs": [
    {
     "data": {
      "text/plain": [
       "TensorShape([4, 80, 64])"
      ]
     },
     "execution_count": 65,
     "metadata": {},
     "output_type": "execute_result"
    }
   ],
   "source": [
    "# 创建RNN 层时，设置返回所有时间戳上的输出\n",
    "layer = layers.SimpleRNN(64,return_sequences=True)\n",
    "out = layer(x) # 前向计算\n",
    "out.shape # 输出，自动进行了concat 操作"
   ]
  },
  {
   "cell_type": "code",
   "execution_count": 68,
   "id": "4bfd6fbe-ab01-4c30-b115-1f341fcb7e47",
   "metadata": {},
   "outputs": [],
   "source": [
    "\n",
    "net = keras.Sequential([ # 构建2 层RNN 网络\n",
    "# 除最末层外，都需要返回所有时间戳的输出，用作下一层的输入\n",
    "layers.SimpleRNN(64, return_sequences=True),\n",
    "layers.SimpleRNN(64),\n",
    "])\n",
    "out = net(x) # 前向计算"
   ]
  },
  {
   "cell_type": "markdown",
   "id": "850f7266-918c-4ba5-bec4-c98f6e19e7d2",
   "metadata": {},
   "source": [
    "# 情感分析问题实战"
   ]
  },
  {
   "cell_type": "code",
   "execution_count": 82,
   "id": "23c4daa5-8faf-4221-9815-89cb1cad20dd",
   "metadata": {},
   "outputs": [
    {
     "name": "stdout",
     "output_type": "stream",
     "text": [
      "(25000,) 218 (25000,)\n",
      "(25000,) 68 (25000,)\n"
     ]
    }
   ],
   "source": [
    "batchsz = 128 # 批量大小\n",
    "total_words = 10000 # 词汇表大小N_vocab\n",
    "max_review_len = 80 # 句子最大长度s，大于的句子部分将截断，小于的将填充\n",
    "embedding_len = 100 # 词向量特征长度n\n",
    "# 加载IMDB 数据集，此处的数据采用数字编码，一个数字代表一个单词\n",
    "(x_train, y_train), (x_test, y_test) =keras.datasets.imdb.load_data(num_words=total_words)\n",
    "# 打印输入的形状，标签的形状\n",
    "print(x_train.shape, len(x_train[0]), y_train.shape)\n",
    "print(x_test.shape, len(x_test[0]), y_test.shape)"
   ]
  },
  {
   "cell_type": "code",
   "execution_count": 83,
   "id": "4b39315e-347b-48ce-8e47-9594a8d72616",
   "metadata": {},
   "outputs": [
    {
     "name": "stdout",
     "output_type": "stream",
     "text": [
      "Downloading data from https://storage.googleapis.com/tensorflow/tf-keras-datasets/imdb_word_index.json\n",
      "1641221/1641221 [==============================] - 2s 1us/step\n"
     ]
    }
   ],
   "source": [
    "# 数字编码表\n",
    "word_index = keras.datasets.imdb.get_word_index()"
   ]
  },
  {
   "cell_type": "code",
   "execution_count": 96,
   "id": "346cfca5-519a-4461-8440-52245d072537",
   "metadata": {},
   "outputs": [
    {
     "name": "stdout",
     "output_type": "stream",
     "text": [
      "'drum : 71924\n",
      "sold : 2959\n",
      "olivier : 4742\n",
      "karmas : 86256\n",
      "theathre : 71029\n",
      "cactuses : 60062\n",
      "wouldn't' : 71320\n",
      "loonatics : 32751\n",
      "lachman : 81551\n",
      "untrumpeted : 81672\n"
     ]
    },
    {
     "name": "stderr",
     "output_type": "stream",
     "text": [
      "C:\\Users\\qingyun891liu\\AppData\\Local\\Temp\\ipykernel_29864\\1361313338.py:3: DeprecationWarning: Sampling from a set deprecated\n",
      "since Python 3.9 and will be removed in a subsequent version.\n",
      "  a = random.sample(word_index.keys(), 10)\n"
     ]
    }
   ],
   "source": [
    "top =10\n",
    "import random\n",
    "a = random.sample(word_index.keys(), 10)\n",
    "b = [word_index[v] for v in a]\n",
    "_ = [print(k,\":\",v) for k, v in zip(a, b)]"
   ]
  },
  {
   "cell_type": "code",
   "execution_count": 98,
   "id": "22e9ecd6-72f8-45cf-911e-dfd944fef03a",
   "metadata": {},
   "outputs": [],
   "source": [
    "word_index = {k:(v+3) for k,v in word_index.items()}\n",
    "word_index[\"<PAD>\"] = 0 # 填充标志\n",
    "word_index[\"<START>\"] = 1 # 起始标志\n",
    "word_index[\"<UNK>\"] = 2 # 未知单词的标志\n",
    "word_index[\"<UNUSED>\"] = 3"
   ]
  },
  {
   "cell_type": "code",
   "execution_count": 99,
   "id": "bfb07d79-6342-4f85-bcbf-89010a0205e5",
   "metadata": {},
   "outputs": [
    {
     "data": {
      "text/plain": [
       "\"<START> this film was just brilliant casting location scenery story direction everyone's really suited the part they played and you could just imagine being there robert <UNK> is an amazing actor and now the same being director <UNK> father came from the same scottish island as myself so i loved the fact there was a real connection with this film the witty remarks throughout the film were great it was just brilliant so much that i bought the film as soon as it was released for <UNK> and would recommend it to everyone to watch and the fly fishing was amazing really cried at the end it was so sad and you know what they say if you cry at a film it must have been good and this definitely was also <UNK> to the two little boy's that played the <UNK> of norman and paul they were just brilliant children are often left out of the <UNK> list i think because the stars that play them all grown up are such a big profile for the whole film but these children are amazing and should be praised for what they have done don't you think the whole story was so lovely because it was true and was someone's life after all that was shared with us all\""
      ]
     },
     "execution_count": 99,
     "metadata": {},
     "output_type": "execute_result"
    }
   ],
   "source": [
    "#构建从ID 转换为相应单词的方法\n",
    "reverse_word_index = dict([(value, key) for (key, value) in word_index.items()])\n",
    "def decode_review(text):\n",
    "    return ' '.join([reverse_word_index.get(i, '?') for i in text])\n",
    "decode_review(x_train[0])"
   ]
  },
  {
   "cell_type": "code",
   "execution_count": 101,
   "id": "e21434d2-94eb-48f8-aee6-ae71e82fa725",
   "metadata": {},
   "outputs": [],
   "source": [
    "# 截断和填充句子，使得等长，此处长句子保留句子后面的部分，短句子在前面填充\n",
    "x_train = keras.preprocessing.sequence.pad_sequences(x_train, maxlen=max_review_len)\n",
    "x_test = keras.preprocessing.sequence.pad_sequences(x_test, maxlen=max_review_len)"
   ]
  },
  {
   "cell_type": "code",
   "execution_count": 102,
   "id": "1aa32b00-3fe3-46f2-8370-b81b019211ec",
   "metadata": {},
   "outputs": [],
   "source": [
    "# 构建数据集，打散，批量，并丢掉最后一个不够batchsz 的batch\n",
    "db_train = tf.data.Dataset.from_tensor_slices((x_train, y_train))\n",
    "db_train = db_train.shuffle(1000).batch(batchsz, drop_remainder=True)\n",
    "db_test = tf.data.Dataset.from_tensor_slices((x_test, y_test))\n",
    "db_test = db_test.batch(batchsz, drop_remainder=True)"
   ]
  },
  {
   "cell_type": "code",
   "execution_count": 103,
   "id": "f790206d-1095-491e-91ea-09de0c0fbd84",
   "metadata": {},
   "outputs": [
    {
     "name": "stdout",
     "output_type": "stream",
     "text": [
      "x_train shape: (25000, 80) tf.Tensor(1, shape=(), dtype=int64) tf.Tensor(0, shape=(), dtype=int64)\n",
      "x_test shape: (25000, 80)\n"
     ]
    }
   ],
   "source": [
    "# 统计数据集属性\n",
    "print('x_train shape:', x_train.shape, tf.reduce_max(y_train),\n",
    "tf.reduce_min(y_train))\n",
    "print('x_test shape:', x_test.shape)"
   ]
  },
  {
   "cell_type": "code",
   "execution_count": null,
   "id": "88fe17f1-47bd-4c03-b538-ffc89616888c",
   "metadata": {},
   "outputs": [],
   "source": []
  },
  {
   "cell_type": "code",
   "execution_count": null,
   "id": "e9535ca9-9263-4466-8bf9-5d626f322801",
   "metadata": {},
   "outputs": [],
   "source": [
    "## 基础模型一"
   ]
  },
  {
   "cell_type": "code",
   "execution_count": 125,
   "id": "53074a6d-e995-459c-8a12-1be4bb3e0ad9",
   "metadata": {},
   "outputs": [],
   "source": [
    "batchsz = 128 # 批量大小\n",
    "total_words = 10000 # 词汇表大小N_vocab\n",
    "max_review_len = 80 # 句子最大长度s，大于的句子部分将截断，小于的将填充\n",
    "embedding_len = 100 # 词向量特征长度n\n",
    "from tensorflow.keras import layers, losses, optimizers, Model\n",
    "class MyRNN(Model):\n",
    "    # Cell 方式构建多层网络\n",
    "    def __init__(self, units):\n",
    "        super(MyRNN, self).__init__()\n",
    "        # [b, 64]，构建Cell 初始化状态向量，重复使用\n",
    "        self.state0 = [tf.zeros([batchsz, units])]  # 128,64\n",
    "        self.state1 = [tf.zeros([batchsz, units])]  # 128,64\n",
    "        # 词向量编码 [b, 80] => [b, 80, 100]\n",
    "        self.embedding = layers.Embedding(total_words, embedding_len, input_length=max_review_len)\n",
    "        # 构建2 个Cell，使用dropout 技术防止过拟合\n",
    "        self.rnn_cell0 = layers.SimpleRNNCell(units)# , dropout=0.5)\n",
    "        self.rnn_cell1 = layers.SimpleRNNCell(units)#, dropout=0.5)\n",
    "        # 构建分类网络，用于将CELL 的输出特征进行分类，2 分类\n",
    "        # [b, 80, 100] => [b, 64] => [b, 1]\n",
    "        self.outlayer = layers.Dense(1)\n",
    "\n",
    "    def call(self, inputs, training=None):\n",
    "        x = inputs  # [128, 80]\n",
    "        # 获取词向量: [128, 80] => [128, 80, 100]\n",
    "        x = self.embedding(x)\n",
    "        # 通过2 个RNN CELL,[128, 80, 100] => [128, 64]\n",
    "        state0 = self.state0\n",
    "        state1 = self.state1\n",
    "        for word in tf.unstack(x, axis=1):  # word: [128, 100]\n",
    "            out0, state0 = self.rnn_cell0(word, state0, training)\n",
    "            out1, state1 = self.rnn_cell1(out0, state1, training)\n",
    "\n",
    "        # 末层最后一个输出作为分类网络的输入: [128, 64] => [128, 1]\n",
    "        x = self.outlayer(out1)\n",
    "        # 通过激活函数，p(y is pos|x)\n",
    "        prob = tf.sigmoid(x)\n",
    "        return prob\n"
   ]
  },
  {
   "cell_type": "code",
   "execution_count": 105,
   "id": "177e36da-41df-4fe1-b059-8e7e71e293d5",
   "metadata": {},
   "outputs": [],
   "source": []
  },
  {
   "cell_type": "code",
   "execution_count": 122,
   "id": "3a70d4ac-bebc-41d6-934f-ea647bbd6acb",
   "metadata": {},
   "outputs": [],
   "source": [
    "def main():\n",
    "    units = 64  # RNN 状态向量长度n\n",
    "    epochs = 20  # 训练epochs\n",
    "    model = MyRNN(units)  # 创建模型\n",
    "    # 装配\n",
    "    model.compile(optimizer=optimizers.Adam(0.001),\n",
    "                  loss=losses.BinaryCrossentropy(), metrics=['accuracy'],\n",
    "                  experimental_run_tf_function=False)\n",
    "    # 训练和验证\n",
    "    model.fit(db_train, epochs=epochs, validation_data=db_test)\n",
    "    # 测试\n",
    "    scores = model.evaluate(db_test)\n",
    "    print(\"Final test loss and accuracy :\", scores)"
   ]
  },
  {
   "cell_type": "code",
   "execution_count": 126,
   "id": "837878a9-09a6-4eb3-91bd-ed9f227bcf92",
   "metadata": {},
   "outputs": [
    {
     "name": "stdout",
     "output_type": "stream",
     "text": [
      "Epoch 1/20\n",
      "195/195 [==============================] - 23s 94ms/step - loss: 0.4805 - accuracy: 0.7595 - val_loss: 0.3962 - val_accuracy: 0.8298\n",
      "Epoch 2/20\n",
      "195/195 [==============================] - 16s 83ms/step - loss: 0.2773 - accuracy: 0.8844 - val_loss: 0.3996 - val_accuracy: 0.8275\n",
      "Epoch 3/20\n",
      "195/195 [==============================] - 16s 83ms/step - loss: 0.1329 - accuracy: 0.9523 - val_loss: 0.5620 - val_accuracy: 0.8101\n",
      "Epoch 4/20\n",
      "195/195 [==============================] - 16s 85ms/step - loss: 0.0689 - accuracy: 0.9744 - val_loss: 0.7252 - val_accuracy: 0.8113\n",
      "Epoch 5/20\n",
      "195/195 [==============================] - 16s 84ms/step - loss: 0.0399 - accuracy: 0.9857 - val_loss: 0.8104 - val_accuracy: 0.7970\n",
      "Epoch 6/20\n",
      "195/195 [==============================] - 17s 85ms/step - loss: 0.0280 - accuracy: 0.9906 - val_loss: 0.9270 - val_accuracy: 0.8015\n",
      "Epoch 7/20\n",
      "195/195 [==============================] - 18s 92ms/step - loss: 0.0240 - accuracy: 0.9919 - val_loss: 0.9430 - val_accuracy: 0.7774\n",
      "Epoch 8/20\n",
      "195/195 [==============================] - 18s 90ms/step - loss: 0.0246 - accuracy: 0.9911 - val_loss: 1.0375 - val_accuracy: 0.8062\n",
      "Epoch 9/20\n",
      "195/195 [==============================] - 17s 88ms/step - loss: 0.0219 - accuracy: 0.9928 - val_loss: 0.9970 - val_accuracy: 0.7977\n",
      "Epoch 10/20\n",
      "195/195 [==============================] - 17s 85ms/step - loss: 0.0220 - accuracy: 0.9924 - val_loss: 0.9807 - val_accuracy: 0.7883\n",
      "Epoch 11/20\n",
      "195/195 [==============================] - 16s 84ms/step - loss: 0.0174 - accuracy: 0.9940 - val_loss: 1.0621 - val_accuracy: 0.8025\n",
      "Epoch 12/20\n",
      "195/195 [==============================] - 17s 89ms/step - loss: 0.0090 - accuracy: 0.9971 - val_loss: 1.1915 - val_accuracy: 0.8016\n",
      "Epoch 13/20\n",
      "195/195 [==============================] - 17s 87ms/step - loss: 0.0177 - accuracy: 0.9938 - val_loss: 1.1257 - val_accuracy: 0.8044\n",
      "Epoch 14/20\n",
      "195/195 [==============================] - 17s 86ms/step - loss: 0.0158 - accuracy: 0.9951 - val_loss: 1.0624 - val_accuracy: 0.7921\n",
      "Epoch 15/20\n",
      "195/195 [==============================] - 17s 85ms/step - loss: 0.0104 - accuracy: 0.9967 - val_loss: 1.2179 - val_accuracy: 0.8007\n",
      "Epoch 16/20\n",
      "195/195 [==============================] - 16s 83ms/step - loss: 0.0140 - accuracy: 0.9952 - val_loss: 1.1631 - val_accuracy: 0.7954\n",
      "Epoch 17/20\n",
      "195/195 [==============================] - 16s 83ms/step - loss: 0.0119 - accuracy: 0.9964 - val_loss: 1.1500 - val_accuracy: 0.7937\n",
      "Epoch 18/20\n",
      "195/195 [==============================] - 17s 87ms/step - loss: 0.0066 - accuracy: 0.9979 - val_loss: 1.1896 - val_accuracy: 0.7978\n",
      "Epoch 19/20\n",
      "195/195 [==============================] - 17s 85ms/step - loss: 0.0085 - accuracy: 0.9970 - val_loss: 1.2721 - val_accuracy: 0.7987\n",
      "Epoch 20/20\n",
      "195/195 [==============================] - 17s 86ms/step - loss: 0.0147 - accuracy: 0.9953 - val_loss: 1.1983 - val_accuracy: 0.7657\n",
      "195/195 [==============================] - 6s 31ms/step - loss: 1.1983 - accuracy: 0.7657\n",
      "Final test loss and accuracy : [1.1983351707458496, 0.7657051086425781]\n"
     ]
    }
   ],
   "source": [
    "if __name__ == '__main__':\n",
    "    main()"
   ]
  },
  {
   "cell_type": "markdown",
   "id": "aff93932-dfbd-401f-a9ea-9d7d6e0096da",
   "metadata": {},
   "source": [
    "## 加入预训练模型后"
   ]
  },
  {
   "cell_type": "code",
   "execution_count": 142,
   "id": "f7f37359-4167-4b03-b601-d9fd7482d049",
   "metadata": {},
   "outputs": [
    {
     "name": "stdout",
     "output_type": "stream",
     "text": [
      "(10000, 50)\n"
     ]
    }
   ],
   "source": [
    "embeddings_index = {} # 提取单词及其向量，保存在字典中\n",
    "GLOVE_path = r'glove.6B.50d.txt'\n",
    "import numpy as np\n",
    "with open(GLOVE_path,encoding='utf-8') as f:\n",
    "    for line in f:\n",
    "        values = line.split()\n",
    "        word = values[0]\n",
    "        coefs = np.asarray(values[1:], dtype='float32')\n",
    "        embeddings_index[word] = coefs\n",
    "    print('Found %s word vectors.' % len(embeddings_index))\n",
    "\n",
    "\n",
    "embedding_len = 50\n",
    "num_words = min(total_words, len(word_index))\n",
    "embedding_matrix = np.zeros((num_words, embedding_len)) #词向量表\n",
    "for word, i in word_index.items():\n",
    "    if i >= num_words:\n",
    "        continue # 过滤掉其他词汇\n",
    "    embedding_vector = embeddings_index.get(word) # 从GloVe 查询词向量\n",
    "    if embedding_vector is not None:\n",
    "        # words not found in embedding index will be all-zeros.\n",
    "        embedding_matrix[i] = embedding_vector # 写入对应位置\n",
    "print(embedding_matrix.shape)\n"
   ]
  },
  {
   "cell_type": "code",
   "execution_count": 144,
   "id": "372fc73d-2257-467a-bb70-4b74374c6ebd",
   "metadata": {},
   "outputs": [],
   "source": [
    "batchsz = 128 # 批量大小\n",
    "total_words = 10000 # 词汇表大小N_vocab\n",
    "max_review_len = 80 # 句子最大长度s，大于的句子部分将截断，小于的将填充\n",
    "embedding_len = 50 # 词向量特征长度n\n",
    "from tensorflow.keras import layers, losses, optimizers, Model\n",
    "class MyRNN(Model):\n",
    "    # Cell 方式构建多层网络\n",
    "    def __init__(self, units):\n",
    "        super(MyRNN, self).__init__()\n",
    "        # [b, 64]，构建Cell 初始化状态向量，重复使用\n",
    "        self.state0 = [tf.zeros([batchsz, units])]  # 128,64\n",
    "        self.state1 = [tf.zeros([batchsz, units])]  # 128,64\n",
    "        # 词向量编码 [b, 80] => [b, 80, 100]\n",
    "        self.embedding = layers.Embedding(total_words, embedding_len, input_length=max_review_len, trainable=False)#不参与梯度更新\n",
    "        self.embedding.build(input_shape=(None, max_review_len))\n",
    "        self.embedding.set_weights([embedding_matrix])#初始化\n",
    "        # 构建2 个Cell，使用dropout 技术防止过拟合\n",
    "        self.rnn_cell0 = layers.SimpleRNNCell(units)# , dropout=0.5)\n",
    "        self.rnn_cell1 = layers.SimpleRNNCell(units)#, dropout=0.5)\n",
    "        # 构建分类网络，用于将CELL 的输出特征进行分类，2 分类\n",
    "        # [b, 80, 100] => [b, 64] => [b, 1]\n",
    "        self.outlayer = layers.Dense(1)\n",
    "\n",
    "    def call(self, inputs, training=None):\n",
    "        x = inputs  # [128, 80]\n",
    "        # 获取词向量: [128, 80] => [128, 80, 100]\n",
    "        x = self.embedding(x)\n",
    "        # 通过2 个RNN CELL,[128, 80, 100] => [128, 64]\n",
    "        state0 = self.state0\n",
    "        state1 = self.state1\n",
    "        for word in tf.unstack(x, axis=1):  # word: [128, 100]\n",
    "            out0, state0 = self.rnn_cell0(word, state0, training)\n",
    "            out1, state1 = self.rnn_cell1(out0, state1, training)\n",
    "\n",
    "        # 末层最后一个输出作为分类网络的输入: [128, 64] => [128, 1]\n",
    "        x = self.outlayer(out1)\n",
    "        # 通过激活函数，p(y is pos|x)\n",
    "        prob = tf.sigmoid(x)\n",
    "        return prob"
   ]
  },
  {
   "cell_type": "code",
   "execution_count": 148,
   "id": "21458ab6-97fc-4fe7-a0fb-b4939ff1bf13",
   "metadata": {},
   "outputs": [],
   "source": [
    "def main():\n",
    "    units = 64  # RNN 状态向量长度n\n",
    "    epochs = 20  # 训练epochs\n",
    "    model = MyRNN(units)  # 创建模型\n",
    "    # 装配\n",
    "    model.compile(optimizer=optimizers.Adam(0.001),\n",
    "                  loss=losses.BinaryCrossentropy(), metrics=['accuracy'],\n",
    "                  experimental_run_tf_function=False)\n",
    "    # 训练和验证\n",
    "    model.fit(db_train, epochs=epochs, validation_data=db_test)\n",
    "    # 测试\n",
    "    scores = model.evaluate(db_test)\n",
    "    print(\"Final test loss and accuracy :\", scores)"
   ]
  },
  {
   "cell_type": "code",
   "execution_count": 149,
   "id": "4eb2bf68-337f-4ea5-9522-b9369c40a5a5",
   "metadata": {},
   "outputs": [
    {
     "name": "stdout",
     "output_type": "stream",
     "text": [
      "Epoch 1/20\n",
      "195/195 [==============================] - 23s 94ms/step - loss: 0.6661 - accuracy: 0.5945 - val_loss: 0.6098 - val_accuracy: 0.6706\n",
      "Epoch 2/20\n",
      "195/195 [==============================] - 17s 87ms/step - loss: 0.6137 - accuracy: 0.6663 - val_loss: 0.6372 - val_accuracy: 0.6382\n",
      "Epoch 3/20\n",
      "195/195 [==============================] - 17s 88ms/step - loss: 0.5779 - accuracy: 0.7029 - val_loss: 0.5694 - val_accuracy: 0.7089\n",
      "Epoch 4/20\n",
      "195/195 [==============================] - 17s 88ms/step - loss: 0.5646 - accuracy: 0.7134 - val_loss: 0.5766 - val_accuracy: 0.7073\n",
      "Epoch 5/20\n",
      "195/195 [==============================] - 17s 87ms/step - loss: 0.5813 - accuracy: 0.6950 - val_loss: 0.5730 - val_accuracy: 0.7133\n",
      "Epoch 6/20\n",
      "195/195 [==============================] - 17s 89ms/step - loss: 0.5396 - accuracy: 0.7317 - val_loss: 0.5508 - val_accuracy: 0.7232\n",
      "Epoch 7/20\n",
      "195/195 [==============================] - 17s 89ms/step - loss: 0.5824 - accuracy: 0.6859 - val_loss: 0.6400 - val_accuracy: 0.6127\n",
      "Epoch 8/20\n",
      "195/195 [==============================] - 17s 88ms/step - loss: 0.5631 - accuracy: 0.7042 - val_loss: 0.5670 - val_accuracy: 0.7084\n",
      "Epoch 9/20\n",
      "195/195 [==============================] - 17s 87ms/step - loss: 0.5294 - accuracy: 0.7388 - val_loss: 0.5634 - val_accuracy: 0.7119\n",
      "Epoch 10/20\n",
      "195/195 [==============================] - 17s 88ms/step - loss: 0.5570 - accuracy: 0.7062 - val_loss: 0.6340 - val_accuracy: 0.6378\n",
      "Epoch 11/20\n",
      "195/195 [==============================] - 17s 87ms/step - loss: 0.5838 - accuracy: 0.6836 - val_loss: 0.6404 - val_accuracy: 0.6181\n",
      "Epoch 12/20\n",
      "195/195 [==============================] - 17s 89ms/step - loss: 0.5844 - accuracy: 0.6802 - val_loss: 0.6221 - val_accuracy: 0.6381\n",
      "Epoch 13/20\n",
      "195/195 [==============================] - 17s 88ms/step - loss: 0.5893 - accuracy: 0.6805 - val_loss: 0.5874 - val_accuracy: 0.6850\n",
      "Epoch 14/20\n",
      "195/195 [==============================] - 17s 86ms/step - loss: 0.5803 - accuracy: 0.6831 - val_loss: 0.5616 - val_accuracy: 0.7026\n",
      "Epoch 15/20\n",
      "195/195 [==============================] - 17s 87ms/step - loss: 0.6055 - accuracy: 0.6542 - val_loss: 0.6181 - val_accuracy: 0.6382\n",
      "Epoch 16/20\n",
      "195/195 [==============================] - 16s 83ms/step - loss: 0.5775 - accuracy: 0.6850 - val_loss: 0.5754 - val_accuracy: 0.6939\n",
      "Epoch 17/20\n",
      "195/195 [==============================] - 16s 81ms/step - loss: 0.5397 - accuracy: 0.7270 - val_loss: 0.5460 - val_accuracy: 0.7279\n",
      "Epoch 18/20\n",
      "195/195 [==============================] - 16s 82ms/step - loss: 0.5704 - accuracy: 0.6887 - val_loss: 0.5612 - val_accuracy: 0.7060\n",
      "Epoch 19/20\n",
      "195/195 [==============================] - 17s 89ms/step - loss: 0.5160 - accuracy: 0.7452 - val_loss: 0.6687 - val_accuracy: 0.5923\n",
      "Epoch 20/20\n",
      "195/195 [==============================] - 17s 88ms/step - loss: 0.5823 - accuracy: 0.6773 - val_loss: 0.5626 - val_accuracy: 0.7093\n",
      "195/195 [==============================] - 6s 29ms/step - loss: 0.5626 - accuracy: 0.7093\n",
      "Final test loss and accuracy : [0.5625761151313782, 0.709254801273346]\n"
     ]
    }
   ],
   "source": [
    "if __name__ == '__main__':\n",
    "    main()"
   ]
  },
  {
   "cell_type": "code",
   "execution_count": null,
   "id": "be2d0b44-8ba2-4e67-8b91-4825ba20f4fb",
   "metadata": {},
   "outputs": [],
   "source": []
  },
  {
   "cell_type": "code",
   "execution_count": 150,
   "id": "f5196024-91c1-4502-b111-6949dfc12a97",
   "metadata": {},
   "outputs": [],
   "source": [
    "batchsz = 128 # 批量大小\n",
    "total_words = 10000 # 词汇表大小N_vocab\n",
    "max_review_len = 80 # 句子最大长度s，大于的句子部分将截断，小于的将填充\n",
    "embedding_len = 50 # 词向量特征长度n\n",
    "from tensorflow.keras import layers, losses, optimizers, Model\n",
    "class MyRNN(Model):\n",
    "    # Cell 方式构建多层网络\n",
    "    def __init__(self, units):\n",
    "        super(MyRNN, self).__init__()\n",
    "        # [b, 64]，构建Cell 初始化状态向量，重复使用\n",
    "        self.state0 = [tf.zeros([batchsz, units])]  # 128,64\n",
    "        self.state1 = [tf.zeros([batchsz, units])]  # 128,64\n",
    "        # 词向量编码 [b, 80] => [b, 80, 100]\n",
    "        self.embedding = layers.Embedding(total_words, embedding_len, input_length=max_review_len, trainable=True)#参与梯度更新\n",
    "        self.embedding.build(input_shape=(None, max_review_len))\n",
    "        self.embedding.set_weights([embedding_matrix])#初始化\n",
    "        # 构建2 个Cell，使用dropout 技术防止过拟合\n",
    "        self.rnn_cell0 = layers.SimpleRNNCell(units)# , dropout=0.5)\n",
    "        self.rnn_cell1 = layers.SimpleRNNCell(units)#, dropout=0.5)\n",
    "        # 构建分类网络，用于将CELL 的输出特征进行分类，2 分类\n",
    "        # [b, 80, 100] => [b, 64] => [b, 1]\n",
    "        self.outlayer = layers.Dense(1)\n",
    "\n",
    "    def call(self, inputs, training=None):\n",
    "        x = inputs  # [128, 80]\n",
    "        # 获取词向量: [128, 80] => [128, 80, 100]\n",
    "        x = self.embedding(x)\n",
    "        # 通过2 个RNN CELL,[128, 80, 100] => [128, 64]\n",
    "        state0 = self.state0\n",
    "        state1 = self.state1\n",
    "        for word in tf.unstack(x, axis=1):  # word: [128, 100]\n",
    "            out0, state0 = self.rnn_cell0(word, state0, training)\n",
    "            out1, state1 = self.rnn_cell1(out0, state1, training)\n",
    "\n",
    "        # 末层最后一个输出作为分类网络的输入: [128, 64] => [128, 1]\n",
    "        x = self.outlayer(out1)\n",
    "        # 通过激活函数，p(y is pos|x)\n",
    "        prob = tf.sigmoid(x)\n",
    "        return prob"
   ]
  },
  {
   "cell_type": "code",
   "execution_count": 151,
   "id": "0b34a4fd-71a7-4faa-9406-3cac293a87b3",
   "metadata": {},
   "outputs": [],
   "source": [
    "def main():\n",
    "    units = 64  # RNN 状态向量长度n\n",
    "    epochs = 20  # 训练epochs\n",
    "    model = MyRNN(units)  # 创建模型\n",
    "    # 装配\n",
    "    model.compile(optimizer=optimizers.Adam(0.001),\n",
    "                  loss=losses.BinaryCrossentropy(), metrics=['accuracy'],\n",
    "                  experimental_run_tf_function=False)\n",
    "    # 训练和验证\n",
    "    model.fit(db_train, epochs=epochs, validation_data=db_test)\n",
    "    # 测试\n",
    "    scores = model.evaluate(db_test)\n",
    "    print(\"Final test loss and accuracy :\", scores)"
   ]
  },
  {
   "cell_type": "code",
   "execution_count": 152,
   "id": "1bbef9ef-94b3-4c1a-b33c-26dccb0a06cc",
   "metadata": {},
   "outputs": [
    {
     "name": "stdout",
     "output_type": "stream",
     "text": [
      "Epoch 1/20\n",
      "195/195 [==============================] - 23s 97ms/step - loss: 0.6306 - accuracy: 0.6384 - val_loss: 0.5746 - val_accuracy: 0.7191\n",
      "Epoch 2/20\n",
      "195/195 [==============================] - 17s 89ms/step - loss: 0.4861 - accuracy: 0.7729 - val_loss: 0.4967 - val_accuracy: 0.7590\n",
      "Epoch 3/20\n",
      "195/195 [==============================] - 17s 85ms/step - loss: 0.4285 - accuracy: 0.8085 - val_loss: 0.4517 - val_accuracy: 0.7932\n",
      "Epoch 4/20\n",
      "195/195 [==============================] - 18s 90ms/step - loss: 0.3593 - accuracy: 0.8508 - val_loss: 0.4496 - val_accuracy: 0.7998\n",
      "Epoch 5/20\n",
      "195/195 [==============================] - 17s 86ms/step - loss: 0.3239 - accuracy: 0.8668 - val_loss: 0.4381 - val_accuracy: 0.8142\n",
      "Epoch 6/20\n",
      "195/195 [==============================] - 17s 86ms/step - loss: 0.2862 - accuracy: 0.8876 - val_loss: 0.4549 - val_accuracy: 0.8124\n",
      "Epoch 7/20\n",
      "195/195 [==============================] - 18s 91ms/step - loss: 0.2536 - accuracy: 0.9014 - val_loss: 0.4658 - val_accuracy: 0.8088\n",
      "Epoch 8/20\n",
      "195/195 [==============================] - 18s 91ms/step - loss: 0.2157 - accuracy: 0.9191 - val_loss: 0.5011 - val_accuracy: 0.7906\n",
      "Epoch 9/20\n",
      "195/195 [==============================] - 18s 92ms/step - loss: 0.1898 - accuracy: 0.9310 - val_loss: 0.5556 - val_accuracy: 0.8056\n",
      "Epoch 10/20\n",
      "195/195 [==============================] - 18s 91ms/step - loss: 0.1454 - accuracy: 0.9501 - val_loss: 0.6097 - val_accuracy: 0.8092\n",
      "Epoch 11/20\n",
      "195/195 [==============================] - 18s 90ms/step - loss: 0.1200 - accuracy: 0.9617 - val_loss: 0.6428 - val_accuracy: 0.8004\n",
      "Epoch 12/20\n",
      "195/195 [==============================] - 17s 87ms/step - loss: 0.1193 - accuracy: 0.9600 - val_loss: 0.7557 - val_accuracy: 0.7784\n",
      "Epoch 13/20\n",
      "195/195 [==============================] - 18s 90ms/step - loss: 0.1049 - accuracy: 0.9644 - val_loss: 0.7451 - val_accuracy: 0.7835\n",
      "Epoch 14/20\n",
      "195/195 [==============================] - 17s 87ms/step - loss: 0.0867 - accuracy: 0.9722 - val_loss: 0.8145 - val_accuracy: 0.7885\n",
      "Epoch 15/20\n",
      "195/195 [==============================] - 18s 91ms/step - loss: 0.0690 - accuracy: 0.9776 - val_loss: 0.8470 - val_accuracy: 0.7892\n",
      "Epoch 16/20\n",
      "195/195 [==============================] - 17s 88ms/step - loss: 0.0458 - accuracy: 0.9864 - val_loss: 0.9364 - val_accuracy: 0.7919\n",
      "Epoch 17/20\n",
      "195/195 [==============================] - 17s 85ms/step - loss: 0.0430 - accuracy: 0.9879 - val_loss: 1.0072 - val_accuracy: 0.7934\n",
      "Epoch 18/20\n",
      "195/195 [==============================] - 18s 91ms/step - loss: 0.0396 - accuracy: 0.9880 - val_loss: 1.0474 - val_accuracy: 0.7896\n",
      "Epoch 19/20\n",
      "195/195 [==============================] - 18s 91ms/step - loss: 0.0977 - accuracy: 0.9689 - val_loss: 0.8070 - val_accuracy: 0.7607\n",
      "Epoch 20/20\n",
      "195/195 [==============================] - 18s 91ms/step - loss: 0.1165 - accuracy: 0.9591 - val_loss: 0.9085 - val_accuracy: 0.7817\n",
      "195/195 [==============================] - 6s 29ms/step - loss: 0.9085 - accuracy: 0.7817\n",
      "Final test loss and accuracy : [0.9084994792938232, 0.7816907167434692]\n"
     ]
    }
   ],
   "source": [
    "if __name__ == '__main__':\n",
    "    main()"
   ]
  },
  {
   "cell_type": "code",
   "execution_count": null,
   "id": "ac87a1ac-5a2c-44ae-9be5-66f1718ef42a",
   "metadata": {},
   "outputs": [],
   "source": []
  },
  {
   "cell_type": "code",
   "execution_count": null,
   "id": "ed75dd43-1187-49dc-aba0-74ab1bd5f2b8",
   "metadata": {},
   "outputs": [],
   "source": []
  },
  {
   "cell_type": "markdown",
   "id": "0ef23bff-75d8-4eaf-8dab-08962860c49b",
   "metadata": {},
   "source": [
    "## LSTM模型"
   ]
  },
  {
   "cell_type": "code",
   "execution_count": 157,
   "id": "77314757-e9df-4f0e-91dd-6505552e73d9",
   "metadata": {},
   "outputs": [],
   "source": [
    "batchsz = 128 # 批量大小\n",
    "total_words = 10000 # 词汇表大小N_vocab\n",
    "max_review_len = 80 # 句子最大长度s，大于的句子部分将截断，小于的将填充\n",
    "embedding_len = 50 # 词向量特征长度n\n",
    "from tensorflow.keras import layers, losses, optimizers, Model\n",
    "class MyRNN_LSTM(Model):\n",
    "    # Cell 方式构建多层网络\n",
    "    def __init__(self, units):\n",
    "        super(MyRNN_LSTM, self).__init__()\n",
    "        # [b, 64]，构建Cell 初始化状态向量，重复使用\n",
    "        self.state0 = [tf.zeros([batchsz, units]), tf.zeros([batchsz,units])]  # 128,64\n",
    "        self.state1 = [tf.zeros([batchsz, units]), tf.zeros([batchsz,units])]  # 128,64\n",
    "        # 词向量编码 [b, 80] => [b, 80, 100]\n",
    "        self.embedding = layers.Embedding(total_words, embedding_len, input_length=max_review_len, trainable=True)#参与梯度更新\n",
    "        self.embedding.build(input_shape=(None, max_review_len))\n",
    "        self.embedding.set_weights([embedding_matrix])#初始化\n",
    "        # 构建2 个Cell，使用dropout 技术防止过拟合\n",
    "        self.rnn_cell0 = layers.LSTMCell(units, dropout=0.5)\n",
    "        self.rnn_cell1 = layers.LSTMCell(units, dropout=0.5)\n",
    "        # 构建分类网络，用于将CELL 的输出特征进行分类，2 分类\n",
    "        # [b, 80, 100] => [b, 64] => [b, 1]\n",
    "        self.outlayer = layers.Dense(1)\n",
    "\n",
    "    def call(self, inputs, training=None):\n",
    "        x = inputs  # [128, 80]\n",
    "        # 获取词向量: [128, 80] => [128, 80, 100]\n",
    "        x = self.embedding(x)\n",
    "        # 通过2 个RNN CELL,[128, 80, 100] => [128, 64]\n",
    "        state0 = self.state0\n",
    "        state1 = self.state1\n",
    "        for word in tf.unstack(x, axis=1):  # word: [128, 100]\n",
    "            out0, state0 = self.rnn_cell0(word, state0, training)\n",
    "            out1, state1 = self.rnn_cell1(out0, state1, training)\n",
    "\n",
    "        # 末层最后一个输出作为分类网络的输入: [128, 64] => [128, 1]\n",
    "        x = self.outlayer(out1)\n",
    "        # 通过激活函数，p(y is pos|x)\n",
    "        prob = tf.sigmoid(x)\n",
    "        return prob"
   ]
  },
  {
   "cell_type": "code",
   "execution_count": 158,
   "id": "63e87682-6ac6-42c4-8e13-38217d8cfe95",
   "metadata": {},
   "outputs": [],
   "source": [
    "def main():\n",
    "    units = 64  # RNN 状态向量长度n\n",
    "    epochs = 20  # 训练epochs\n",
    "    model = MyRNN_LSTM(units)  # 创建模型\n",
    "    # 装配\n",
    "    model.compile(optimizer=optimizers.Adam(0.001),\n",
    "                  loss=losses.BinaryCrossentropy(), metrics=['accuracy'],\n",
    "                  experimental_run_tf_function=False)\n",
    "    # 训练和验证\n",
    "    model.fit(db_train, epochs=epochs, validation_data=db_test)\n",
    "    # 测试\n",
    "    scores = model.evaluate(db_test)\n",
    "    print(\"Final test loss and accuracy :\", scores)"
   ]
  },
  {
   "cell_type": "code",
   "execution_count": 159,
   "id": "55bfb5eb-c596-424b-89cd-57faaf980c3e",
   "metadata": {},
   "outputs": [
    {
     "name": "stdout",
     "output_type": "stream",
     "text": [
      "Epoch 1/20\n",
      "195/195 [==============================] - 58s 245ms/step - loss: 0.6559 - accuracy: 0.6045 - val_loss: 0.5727 - val_accuracy: 0.7060\n",
      "Epoch 2/20\n",
      "195/195 [==============================] - 46s 238ms/step - loss: 0.5549 - accuracy: 0.7206 - val_loss: 0.4943 - val_accuracy: 0.7762\n",
      "Epoch 3/20\n",
      "195/195 [==============================] - 46s 234ms/step - loss: 0.4727 - accuracy: 0.7805 - val_loss: 0.4833 - val_accuracy: 0.7935\n",
      "Epoch 4/20\n",
      "195/195 [==============================] - 47s 242ms/step - loss: 0.4239 - accuracy: 0.8044 - val_loss: 0.3808 - val_accuracy: 0.8328\n",
      "Epoch 5/20\n",
      "195/195 [==============================] - 47s 241ms/step - loss: 0.3927 - accuracy: 0.8284 - val_loss: 0.3646 - val_accuracy: 0.8390\n",
      "Epoch 6/20\n",
      "195/195 [==============================] - 44s 227ms/step - loss: 0.3690 - accuracy: 0.8383 - val_loss: 0.3449 - val_accuracy: 0.8482\n",
      "Epoch 7/20\n",
      "195/195 [==============================] - 46s 237ms/step - loss: 0.3521 - accuracy: 0.8488 - val_loss: 0.3736 - val_accuracy: 0.8438\n",
      "Epoch 8/20\n",
      "195/195 [==============================] - 45s 230ms/step - loss: 0.3335 - accuracy: 0.8568 - val_loss: 0.3635 - val_accuracy: 0.8485\n",
      "Epoch 9/20\n",
      "195/195 [==============================] - 46s 235ms/step - loss: 0.3198 - accuracy: 0.8636 - val_loss: 0.3585 - val_accuracy: 0.8538\n",
      "Epoch 10/20\n",
      "195/195 [==============================] - 45s 230ms/step - loss: 0.3085 - accuracy: 0.8703 - val_loss: 0.3419 - val_accuracy: 0.8571\n",
      "Epoch 11/20\n",
      "195/195 [==============================] - 44s 228ms/step - loss: 0.2988 - accuracy: 0.8729 - val_loss: 0.3399 - val_accuracy: 0.8601\n",
      "Epoch 12/20\n",
      "195/195 [==============================] - 45s 229ms/step - loss: 0.2885 - accuracy: 0.8786 - val_loss: 0.3590 - val_accuracy: 0.8558\n",
      "Epoch 13/20\n",
      "195/195 [==============================] - 44s 227ms/step - loss: 0.2822 - accuracy: 0.8829 - val_loss: 0.3667 - val_accuracy: 0.8543\n",
      "Epoch 14/20\n",
      "195/195 [==============================] - 44s 226ms/step - loss: 0.2736 - accuracy: 0.8885 - val_loss: 0.3664 - val_accuracy: 0.8561\n",
      "Epoch 15/20\n",
      "195/195 [==============================] - 44s 227ms/step - loss: 0.2645 - accuracy: 0.8922 - val_loss: 0.3417 - val_accuracy: 0.8597\n",
      "Epoch 16/20\n",
      "195/195 [==============================] - 45s 231ms/step - loss: 0.2532 - accuracy: 0.8964 - val_loss: 0.3716 - val_accuracy: 0.8480\n",
      "Epoch 17/20\n",
      "195/195 [==============================] - 44s 226ms/step - loss: 0.2486 - accuracy: 0.8981 - val_loss: 0.3669 - val_accuracy: 0.8578\n",
      "Epoch 18/20\n",
      "195/195 [==============================] - 44s 226ms/step - loss: 0.2404 - accuracy: 0.9015 - val_loss: 0.3729 - val_accuracy: 0.8568\n",
      "Epoch 19/20\n",
      "195/195 [==============================] - 45s 231ms/step - loss: 0.2337 - accuracy: 0.9064 - val_loss: 0.3759 - val_accuracy: 0.8572\n",
      "Epoch 20/20\n",
      "195/195 [==============================] - 45s 229ms/step - loss: 0.2324 - accuracy: 0.9058 - val_loss: 0.3809 - val_accuracy: 0.8573\n",
      "195/195 [==============================] - 14s 72ms/step - loss: 0.3809 - accuracy: 0.8573\n",
      "Final test loss and accuracy : [0.3808881342411041, 0.8572916388511658]\n"
     ]
    }
   ],
   "source": [
    "if __name__ == '__main__':\n",
    "    main()"
   ]
  },
  {
   "cell_type": "code",
   "execution_count": null,
   "id": "3c324e1b-6d4d-4f01-a065-e020a9ed850d",
   "metadata": {},
   "outputs": [],
   "source": []
  },
  {
   "cell_type": "code",
   "execution_count": null,
   "id": "023da40d-961c-4171-87c0-6a86e20b0ba9",
   "metadata": {},
   "outputs": [],
   "source": []
  },
  {
   "cell_type": "markdown",
   "id": "4152069e-a653-4106-8fcf-59d893d826ab",
   "metadata": {},
   "source": [
    "## GRU模型"
   ]
  },
  {
   "cell_type": "code",
   "execution_count": 161,
   "id": "09cacc0d-75a7-44c7-bcfe-7f7129e02cb1",
   "metadata": {},
   "outputs": [],
   "source": [
    "batchsz = 128 # 批量大小\n",
    "total_words = 10000 # 词汇表大小N_vocab\n",
    "max_review_len = 80 # 句子最大长度s，大于的句子部分将截断，小于的将填充\n",
    "embedding_len = 50 # 词向量特征长度n\n",
    "from tensorflow.keras import layers, losses, optimizers, Model\n",
    "class MyRNN_GRU(Model):\n",
    "    # Cell 方式构建多层网络\n",
    "    def __init__(self, units):\n",
    "        super(MyRNN_GRU, self).__init__()\n",
    "        # [b, 64]，构建Cell 初始化状态向量，重复使用\n",
    "        self.state0 = [tf.zeros([batchsz, units])]  # 128,64\n",
    "        self.state1 = [tf.zeros([batchsz, units])]  # 128,64\n",
    "        # 词向量编码 [b, 80] => [b, 80, 100]\n",
    "        self.embedding = layers.Embedding(total_words, embedding_len, input_length=max_review_len, trainable=True)#参与梯度更新\n",
    "        self.embedding.build(input_shape=(None, max_review_len))\n",
    "        self.embedding.set_weights([embedding_matrix])#初始化\n",
    "        # 构建2 个Cell，使用dropout 技术防止过拟合\n",
    "        self.rnn_cell0 = layers.SimpleRNNCell(units)# , dropout=0.5)\n",
    "        self.rnn_cell1 = layers.SimpleRNNCell(units)#, dropout=0.5)\n",
    "        # 构建分类网络，用于将CELL 的输出特征进行分类，2 分类\n",
    "        # [b, 80, 100] => [b, 64] => [b, 1]\n",
    "        self.outlayer = layers.Dense(1)\n",
    "\n",
    "    def call(self, inputs, training=None):\n",
    "        x = inputs  # [128, 80]\n",
    "        # 获取词向量: [128, 80] => [128, 80, 100]\n",
    "        x = self.embedding(x)\n",
    "        # 通过2 个RNN CELL,[128, 80, 100] => [128, 64]\n",
    "        state0 = self.state0\n",
    "        state1 = self.state1\n",
    "        for word in tf.unstack(x, axis=1):  # word: [128, 100]\n",
    "            out0, state0 = self.rnn_cell0(word, state0, training)\n",
    "            out1, state1 = self.rnn_cell1(out0, state1, training)\n",
    "\n",
    "        # 末层最后一个输出作为分类网络的输入: [128, 64] => [128, 1]\n",
    "        x = self.outlayer(out1)\n",
    "        # 通过激活函数，p(y is pos|x)\n",
    "        prob = tf.sigmoid(x)\n",
    "        return prob"
   ]
  },
  {
   "cell_type": "code",
   "execution_count": 162,
   "id": "34af98e2-b232-41e8-9f6c-7b992c3c3927",
   "metadata": {},
   "outputs": [],
   "source": [
    "def main():\n",
    "    units = 64  # RNN 状态向量长度n\n",
    "    epochs = 20  # 训练epochs\n",
    "    model = MyRNN_GRU(units)  # 创建模型\n",
    "    # 装配\n",
    "    model.compile(optimizer=optimizers.Adam(0.001),\n",
    "                  loss=losses.BinaryCrossentropy(), metrics=['accuracy'],\n",
    "                  experimental_run_tf_function=False)\n",
    "    # 训练和验证\n",
    "    model.fit(db_train, epochs=epochs, validation_data=db_test)\n",
    "    # 测试\n",
    "    scores = model.evaluate(db_test)\n",
    "    print(\"Final test loss and accuracy :\", scores)"
   ]
  },
  {
   "cell_type": "code",
   "execution_count": 163,
   "id": "3de2e03b-4466-43db-8fce-1f12748bde6e",
   "metadata": {},
   "outputs": [
    {
     "name": "stdout",
     "output_type": "stream",
     "text": [
      "Epoch 1/20\n",
      "195/195 [==============================] - 23s 97ms/step - loss: 0.6395 - accuracy: 0.6275 - val_loss: 0.5403 - val_accuracy: 0.7367\n",
      "Epoch 2/20\n",
      "195/195 [==============================] - 17s 86ms/step - loss: 0.5187 - accuracy: 0.7481 - val_loss: 0.4848 - val_accuracy: 0.7798\n",
      "Epoch 3/20\n",
      "195/195 [==============================] - 16s 85ms/step - loss: 0.4321 - accuracy: 0.8071 - val_loss: 0.4745 - val_accuracy: 0.7780\n",
      "Epoch 4/20\n",
      "195/195 [==============================] - 17s 86ms/step - loss: 0.3980 - accuracy: 0.8279 - val_loss: 0.4743 - val_accuracy: 0.7850\n",
      "Epoch 5/20\n",
      "195/195 [==============================] - 17s 87ms/step - loss: 0.3536 - accuracy: 0.8530 - val_loss: 0.4369 - val_accuracy: 0.8131\n",
      "Epoch 6/20\n",
      "195/195 [==============================] - 17s 90ms/step - loss: 0.3016 - accuracy: 0.8786 - val_loss: 0.4444 - val_accuracy: 0.8124\n",
      "Epoch 7/20\n",
      "195/195 [==============================] - 18s 91ms/step - loss: 0.2764 - accuracy: 0.8917 - val_loss: 0.4982 - val_accuracy: 0.8135\n",
      "Epoch 8/20\n",
      "195/195 [==============================] - 18s 92ms/step - loss: 0.2368 - accuracy: 0.9098 - val_loss: 0.4745 - val_accuracy: 0.8131\n",
      "Epoch 9/20\n",
      "195/195 [==============================] - 17s 86ms/step - loss: 0.2021 - accuracy: 0.9254 - val_loss: 0.5892 - val_accuracy: 0.7623\n",
      "Epoch 10/20\n",
      "195/195 [==============================] - 17s 85ms/step - loss: 0.1823 - accuracy: 0.9349 - val_loss: 0.5777 - val_accuracy: 0.7925\n",
      "Epoch 11/20\n",
      "195/195 [==============================] - 17s 85ms/step - loss: 0.1536 - accuracy: 0.9462 - val_loss: 0.5874 - val_accuracy: 0.8014\n",
      "Epoch 12/20\n",
      "195/195 [==============================] - 17s 87ms/step - loss: 0.1391 - accuracy: 0.9515 - val_loss: 0.6360 - val_accuracy: 0.7980\n",
      "Epoch 13/20\n",
      "195/195 [==============================] - 17s 86ms/step - loss: 0.0939 - accuracy: 0.9708 - val_loss: 0.7275 - val_accuracy: 0.7848\n",
      "Epoch 14/20\n",
      "195/195 [==============================] - 17s 85ms/step - loss: 0.1014 - accuracy: 0.9667 - val_loss: 0.7258 - val_accuracy: 0.7854\n",
      "Epoch 15/20\n",
      "195/195 [==============================] - 18s 91ms/step - loss: 0.0617 - accuracy: 0.9824 - val_loss: 0.8211 - val_accuracy: 0.7873\n",
      "Epoch 16/20\n",
      "195/195 [==============================] - 18s 93ms/step - loss: 0.0599 - accuracy: 0.9818 - val_loss: 0.9211 - val_accuracy: 0.7878\n",
      "Epoch 17/20\n",
      "195/195 [==============================] - 18s 93ms/step - loss: 0.0655 - accuracy: 0.9787 - val_loss: 0.9174 - val_accuracy: 0.7856\n",
      "Epoch 18/20\n",
      "195/195 [==============================] - 18s 93ms/step - loss: 0.0376 - accuracy: 0.9898 - val_loss: 1.0100 - val_accuracy: 0.7910\n",
      "Epoch 19/20\n",
      "195/195 [==============================] - 18s 93ms/step - loss: 0.0297 - accuracy: 0.9920 - val_loss: 1.1136 - val_accuracy: 0.7903\n",
      "Epoch 20/20\n",
      "195/195 [==============================] - 17s 87ms/step - loss: 0.0379 - accuracy: 0.9895 - val_loss: 1.0594 - val_accuracy: 0.7865\n",
      "195/195 [==============================] - 5s 27ms/step - loss: 1.0594 - accuracy: 0.7865\n",
      "Final test loss and accuracy : [1.0593714714050293, 0.7864583134651184]\n"
     ]
    }
   ],
   "source": [
    "if __name__ == '__main__':\n",
    "    main()"
   ]
  },
  {
   "cell_type": "code",
   "execution_count": null,
   "id": "5d863391-8fd1-4228-b9bd-1bceb3e07d3c",
   "metadata": {},
   "outputs": [],
   "source": []
  },
  {
   "cell_type": "code",
   "execution_count": null,
   "id": "56ec58fe-1bb5-4077-bfbf-f90e23adabfa",
   "metadata": {},
   "outputs": [],
   "source": []
  },
  {
   "cell_type": "code",
   "execution_count": null,
   "id": "723b3ce5-c790-40bc-bad1-9c60cae6653d",
   "metadata": {},
   "outputs": [],
   "source": []
  },
  {
   "cell_type": "code",
   "execution_count": null,
   "id": "2e044e18-cbed-4552-b952-ee5b12659ab1",
   "metadata": {},
   "outputs": [],
   "source": []
  },
  {
   "cell_type": "code",
   "execution_count": null,
   "id": "3eae4f45-80c9-4b3c-870d-dc53f2d686e2",
   "metadata": {},
   "outputs": [],
   "source": []
  },
  {
   "cell_type": "code",
   "execution_count": null,
   "id": "1f7ca5b2-39fc-408d-b2c9-781a17d0ae51",
   "metadata": {},
   "outputs": [],
   "source": []
  },
  {
   "cell_type": "code",
   "execution_count": null,
   "id": "59af8832-0647-4489-be46-f75adfe23073",
   "metadata": {},
   "outputs": [],
   "source": []
  },
  {
   "cell_type": "code",
   "execution_count": null,
   "id": "2a081c76-0a69-445a-9358-b94860209f14",
   "metadata": {},
   "outputs": [],
   "source": []
  }
 ],
 "metadata": {
  "kernelspec": {
   "display_name": "Python 3 (ipykernel)",
   "language": "python",
   "name": "python3"
  },
  "language_info": {
   "codemirror_mode": {
    "name": "ipython",
    "version": 3
   },
   "file_extension": ".py",
   "mimetype": "text/x-python",
   "name": "python",
   "nbconvert_exporter": "python",
   "pygments_lexer": "ipython3",
   "version": "3.9.13"
  }
 },
 "nbformat": 4,
 "nbformat_minor": 5
}
