{
 "cells": [
  {
   "cell_type": "code",
   "execution_count": 1,
   "id": "66a746e1-4356-410d-ab30-6b0dcb762a6f",
   "metadata": {},
   "outputs": [],
   "source": [
    "import numpy as np\n",
    "from tensorflow import keras\n",
    "from tensorflow.keras import layers"
   ]
  },
  {
   "cell_type": "code",
   "execution_count": 2,
   "id": "f10b772a-d6a8-4976-8eee-40920b5da39e",
   "metadata": {},
   "outputs": [
    {
     "name": "stdout",
     "output_type": "stream",
     "text": [
      "x_train shape: (60000, 28, 28, 1)\n",
      "60000 train samples\n",
      "10000 test samples\n"
     ]
    }
   ],
   "source": [
    "# Model / data parameters\n",
    "num_classes = 10\n",
    "input_shape = (28, 28, 1)\n",
    "\n",
    "# Load the data and split it between train and test sets\n",
    "(x_train, y_train), (x_test, y_test) = keras.datasets.mnist.load_data()\n",
    "\n",
    "# Scale images to the [0, 1] range\n",
    "x_train = x_train.astype(\"float32\") / 255\n",
    "x_test = x_test.astype(\"float32\") / 255\n",
    "# Make sure images have shape (28, 28, 1)\n",
    "x_train = np.expand_dims(x_train, -1)\n",
    "x_test = np.expand_dims(x_test, -1)\n",
    "print(\"x_train shape:\", x_train.shape)\n",
    "print(x_train.shape[0], \"train samples\")\n",
    "print(x_test.shape[0], \"test samples\")\n",
    "\n",
    "\n",
    "# convert class vectors to binary class matrices\n",
    "y_train = keras.utils.to_categorical(y_train, num_classes)\n",
    "y_test = keras.utils.to_categorical(y_test, num_classes)"
   ]
  },
  {
   "cell_type": "code",
   "execution_count": 3,
   "id": "0a5121b6-ff52-4014-9f1e-348b2df46272",
   "metadata": {},
   "outputs": [
    {
     "name": "stdout",
     "output_type": "stream",
     "text": [
      "Model: \"sequential\"\n",
      "_________________________________________________________________\n",
      " Layer (type)                Output Shape              Param #   \n",
      "=================================================================\n",
      " conv2d (Conv2D)             (None, 26, 26, 32)        320       \n",
      "                                                                 \n",
      " max_pooling2d (MaxPooling2D  (None, 13, 13, 32)       0         \n",
      " )                                                               \n",
      "                                                                 \n",
      " conv2d_1 (Conv2D)           (None, 11, 11, 64)        18496     \n",
      "                                                                 \n",
      " max_pooling2d_1 (MaxPooling  (None, 5, 5, 64)         0         \n",
      " 2D)                                                             \n",
      "                                                                 \n",
      " flatten (Flatten)           (None, 1600)              0         \n",
      "                                                                 \n",
      " dropout (Dropout)           (None, 1600)              0         \n",
      "                                                                 \n",
      " dense (Dense)               (None, 10)                16010     \n",
      "                                                                 \n",
      "=================================================================\n",
      "Total params: 34,826\n",
      "Trainable params: 34,826\n",
      "Non-trainable params: 0\n",
      "_________________________________________________________________\n"
     ]
    }
   ],
   "source": [
    "model = keras.Sequential(\n",
    "    [\n",
    "        keras.Input(shape=input_shape),\n",
    "        layers.Conv2D(32, kernel_size=(3, 3), activation=\"relu\"),\n",
    "        layers.MaxPooling2D(pool_size=(2, 2)),\n",
    "        layers.Conv2D(64, kernel_size=(3, 3), activation=\"relu\"),\n",
    "        layers.MaxPooling2D(pool_size=(2, 2)),\n",
    "        layers.Flatten(),\n",
    "        layers.Dropout(0.5),\n",
    "        layers.Dense(num_classes, activation=\"softmax\"),\n",
    "    ]\n",
    ")\n",
    "\n",
    "model.summary()"
   ]
  },
  {
   "cell_type": "code",
   "execution_count": 4,
   "id": "d3357a87-8ad3-4a57-8175-9cb62ffa33c9",
   "metadata": {},
   "outputs": [
    {
     "name": "stdout",
     "output_type": "stream",
     "text": [
      "Epoch 1/15\n",
      "422/422 [==============================] - 8s 5ms/step - loss: 0.3551 - accuracy: 0.8921 - val_loss: 0.0863 - val_accuracy: 0.9768\n",
      "Epoch 2/15\n",
      "422/422 [==============================] - 2s 4ms/step - loss: 0.1143 - accuracy: 0.9653 - val_loss: 0.0588 - val_accuracy: 0.9838\n",
      "Epoch 3/15\n",
      "422/422 [==============================] - 2s 5ms/step - loss: 0.0868 - accuracy: 0.9732 - val_loss: 0.0468 - val_accuracy: 0.9855\n",
      "Epoch 4/15\n",
      "422/422 [==============================] - 2s 5ms/step - loss: 0.0710 - accuracy: 0.9783 - val_loss: 0.0500 - val_accuracy: 0.9860\n",
      "Epoch 5/15\n",
      "422/422 [==============================] - 2s 5ms/step - loss: 0.0646 - accuracy: 0.9792 - val_loss: 0.0366 - val_accuracy: 0.9892\n",
      "Epoch 6/15\n",
      "422/422 [==============================] - 2s 5ms/step - loss: 0.0592 - accuracy: 0.9815 - val_loss: 0.0388 - val_accuracy: 0.9890\n",
      "Epoch 7/15\n",
      "422/422 [==============================] - 2s 5ms/step - loss: 0.0516 - accuracy: 0.9834 - val_loss: 0.0343 - val_accuracy: 0.9910\n",
      "Epoch 8/15\n",
      "422/422 [==============================] - 2s 5ms/step - loss: 0.0483 - accuracy: 0.9844 - val_loss: 0.0346 - val_accuracy: 0.9900\n",
      "Epoch 9/15\n",
      "422/422 [==============================] - 2s 4ms/step - loss: 0.0458 - accuracy: 0.9857 - val_loss: 0.0362 - val_accuracy: 0.9887\n",
      "Epoch 10/15\n",
      "422/422 [==============================] - 2s 5ms/step - loss: 0.0410 - accuracy: 0.9869 - val_loss: 0.0312 - val_accuracy: 0.9915\n",
      "Epoch 11/15\n",
      "422/422 [==============================] - 2s 5ms/step - loss: 0.0404 - accuracy: 0.9869 - val_loss: 0.0307 - val_accuracy: 0.9920\n",
      "Epoch 12/15\n",
      "422/422 [==============================] - 2s 4ms/step - loss: 0.0391 - accuracy: 0.9874 - val_loss: 0.0361 - val_accuracy: 0.9900\n",
      "Epoch 13/15\n",
      "422/422 [==============================] - 2s 5ms/step - loss: 0.0359 - accuracy: 0.9885 - val_loss: 0.0324 - val_accuracy: 0.9907\n",
      "Epoch 14/15\n",
      "422/422 [==============================] - 2s 5ms/step - loss: 0.0339 - accuracy: 0.9894 - val_loss: 0.0296 - val_accuracy: 0.9923\n",
      "Epoch 15/15\n",
      "422/422 [==============================] - 2s 4ms/step - loss: 0.0328 - accuracy: 0.9894 - val_loss: 0.0285 - val_accuracy: 0.9922\n"
     ]
    },
    {
     "data": {
      "text/plain": [
       "<keras.callbacks.History at 0x22015f45eb0>"
      ]
     },
     "execution_count": 4,
     "metadata": {},
     "output_type": "execute_result"
    }
   ],
   "source": [
    "batch_size = 128\n",
    "epochs = 15\n",
    "\n",
    "model.compile(loss=\"categorical_crossentropy\", optimizer=\"adam\", metrics=[\"accuracy\"])\n",
    "\n",
    "model.fit(x_train, y_train, batch_size=batch_size, epochs=epochs, validation_split=0.1)"
   ]
  },
  {
   "cell_type": "code",
   "execution_count": null,
   "id": "8d895b94-abaa-4d15-af06-17c795ab8b1b",
   "metadata": {},
   "outputs": [],
   "source": []
  },
  {
   "cell_type": "code",
   "execution_count": null,
   "id": "8df49bc4-43af-40d6-9a4d-74dc33f600f5",
   "metadata": {},
   "outputs": [],
   "source": []
  },
  {
   "cell_type": "code",
   "execution_count": null,
   "id": "6a22f589-8c41-43c6-b773-b40de8b759c0",
   "metadata": {},
   "outputs": [],
   "source": []
  }
 ],
 "metadata": {
  "kernelspec": {
   "display_name": "Python 3 (ipykernel)",
   "language": "python",
   "name": "python3"
  },
  "language_info": {
   "codemirror_mode": {
    "name": "ipython",
    "version": 3
   },
   "file_extension": ".py",
   "mimetype": "text/x-python",
   "name": "python",
   "nbconvert_exporter": "python",
   "pygments_lexer": "ipython3",
   "version": "3.9.13"
  }
 },
 "nbformat": 4,
 "nbformat_minor": 5
}
