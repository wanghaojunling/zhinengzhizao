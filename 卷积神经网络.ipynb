{
 "cells": [
  {
   "cell_type": "markdown",
   "id": "346fdec0-1e1e-430d-bb35-b0912778d29d",
   "metadata": {},
   "source": [
    "ref:\n",
    "https://keras.io/examples/vision/mnist_convnet/"
   ]
  },
  {
   "cell_type": "code",
   "execution_count": 1,
   "id": "eafff7aa-2ba4-493a-b6d8-d582ad35936f",
   "metadata": {},
   "outputs": [],
   "source": [
    "import numpy as np\n",
    "from tensorflow import keras\n",
    "from tensorflow.keras import layers"
   ]
  },
  {
   "cell_type": "code",
   "execution_count": 3,
   "id": "bdcdfd6b-597e-4559-b276-4e72164d6363",
   "metadata": {},
   "outputs": [
    {
     "name": "stdout",
     "output_type": "stream",
     "text": [
      "x_train shape: (5000, 28, 28, 1)\n",
      "5000 train samples\n",
      "1000 test samples\n"
     ]
    }
   ],
   "source": [
    "# Model / data parameters\n",
    "num_classes = 10\n",
    "input_shape = (28, 28, 1)\n",
    "\n",
    "# Load the data and split it between train and test sets\n",
    "(x_train, y_train), (x_test, y_test) = keras.datasets.mnist.load_data()\n",
    "x_train = x_train[0:5000]\n",
    "y_train = y_train[0:5000]\n",
    "x_test = x_test[0:1000]\n",
    "y_test = y_test[0:1000]\n",
    "# Scale images to the [0, 1] range\n",
    "x_train = x_train.astype(\"float32\") / 255\n",
    "x_test = x_test.astype(\"float32\") / 255\n",
    "# Make sure images have shape (28, 28, 1)\n",
    "x_train = np.expand_dims(x_train, -1)\n",
    "x_test = np.expand_dims(x_test, -1)\n",
    "print(\"x_train shape:\", x_train.shape)\n",
    "print(x_train.shape[0], \"train samples\")\n",
    "print(x_test.shape[0], \"test samples\")\n",
    "\n",
    "\n",
    "# convert class vectors to binary class matrices\n",
    "y_train = keras.utils.to_categorical(y_train, num_classes)\n",
    "y_test = keras.utils.to_categorical(y_test, num_classes)"
   ]
  },
  {
   "cell_type": "code",
   "execution_count": 4,
   "id": "79d0cda1-027c-4f7f-81b0-5958f903f19c",
   "metadata": {},
   "outputs": [
    {
     "name": "stdout",
     "output_type": "stream",
     "text": [
      "Model: \"sequential\"\n",
      "_________________________________________________________________\n",
      " Layer (type)                Output Shape              Param #   \n",
      "=================================================================\n",
      " conv2d (Conv2D)             (None, 26, 26, 32)        320       \n",
      "                                                                 \n",
      " max_pooling2d (MaxPooling2D  (None, 13, 13, 32)       0         \n",
      " )                                                               \n",
      "                                                                 \n",
      " conv2d_1 (Conv2D)           (None, 11, 11, 64)        18496     \n",
      "                                                                 \n",
      " max_pooling2d_1 (MaxPooling  (None, 5, 5, 64)         0         \n",
      " 2D)                                                             \n",
      "                                                                 \n",
      " flatten (Flatten)           (None, 1600)              0         \n",
      "                                                                 \n",
      " dropout (Dropout)           (None, 1600)              0         \n",
      "                                                                 \n",
      " dense (Dense)               (None, 10)                16010     \n",
      "                                                                 \n",
      "=================================================================\n",
      "Total params: 34,826\n",
      "Trainable params: 34,826\n",
      "Non-trainable params: 0\n",
      "_________________________________________________________________\n"
     ]
    },
    {
     "name": "stderr",
     "output_type": "stream",
     "text": [
      "2022-09-18 23:14:14.827961: E tensorflow/stream_executor/cuda/cuda_driver.cc:271] failed call to cuInit: CUDA_ERROR_NO_DEVICE: no CUDA-capable device is detected\n",
      "2022-09-18 23:14:14.828033: I tensorflow/stream_executor/cuda/cuda_diagnostics.cc:156] kernel driver does not appear to be running on this host (liuyq-Workstation): /proc/driver/nvidia/version does not exist\n"
     ]
    }
   ],
   "source": [
    "model = keras.Sequential(\n",
    "    [\n",
    "        keras.Input(shape=input_shape),\n",
    "        layers.Conv2D(32, kernel_size=(3, 3), activation=\"relu\"),\n",
    "        layers.MaxPooling2D(pool_size=(2, 2)),\n",
    "        layers.Conv2D(64, kernel_size=(3, 3), activation=\"relu\"),\n",
    "        layers.MaxPooling2D(pool_size=(2, 2)),\n",
    "        layers.Flatten(),\n",
    "        layers.Dropout(0.5),\n",
    "        layers.Dense(num_classes, activation=\"softmax\"),\n",
    "    ]\n",
    ")\n",
    "\n",
    "model.summary()"
   ]
  },
  {
   "cell_type": "code",
   "execution_count": 6,
   "id": "8734558f-7927-4329-b69a-a573038a7532",
   "metadata": {},
   "outputs": [
    {
     "name": "stdout",
     "output_type": "stream",
     "text": [
      "Epoch 1/15\n",
      "36/36 [==============================] - 2s 45ms/step - loss: 0.0885 - accuracy: 0.9727 - val_loss: 0.0973 - val_accuracy: 0.9720\n",
      "Epoch 2/15\n",
      "36/36 [==============================] - 1s 40ms/step - loss: 0.0770 - accuracy: 0.9771 - val_loss: 0.1018 - val_accuracy: 0.9680\n",
      "Epoch 3/15\n",
      "36/36 [==============================] - 1s 38ms/step - loss: 0.0781 - accuracy: 0.9773 - val_loss: 0.0954 - val_accuracy: 0.9700\n",
      "Epoch 4/15\n",
      "36/36 [==============================] - 1s 39ms/step - loss: 0.0711 - accuracy: 0.9787 - val_loss: 0.0909 - val_accuracy: 0.9700\n",
      "Epoch 5/15\n",
      "36/36 [==============================] - 1s 39ms/step - loss: 0.0644 - accuracy: 0.9789 - val_loss: 0.0895 - val_accuracy: 0.9700\n",
      "Epoch 6/15\n",
      "36/36 [==============================] - 1s 39ms/step - loss: 0.0669 - accuracy: 0.9796 - val_loss: 0.0831 - val_accuracy: 0.9760\n",
      "Epoch 7/15\n",
      "36/36 [==============================] - 1s 39ms/step - loss: 0.0682 - accuracy: 0.9787 - val_loss: 0.0906 - val_accuracy: 0.9760\n",
      "Epoch 8/15\n",
      "36/36 [==============================] - 1s 39ms/step - loss: 0.0580 - accuracy: 0.9824 - val_loss: 0.0749 - val_accuracy: 0.9740\n",
      "Epoch 9/15\n",
      "36/36 [==============================] - 1s 39ms/step - loss: 0.0532 - accuracy: 0.9847 - val_loss: 0.0892 - val_accuracy: 0.9700\n",
      "Epoch 10/15\n",
      "36/36 [==============================] - 1s 39ms/step - loss: 0.0593 - accuracy: 0.9807 - val_loss: 0.0884 - val_accuracy: 0.9720\n",
      "Epoch 11/15\n",
      "36/36 [==============================] - 1s 39ms/step - loss: 0.0515 - accuracy: 0.9838 - val_loss: 0.0823 - val_accuracy: 0.9700\n",
      "Epoch 12/15\n",
      "36/36 [==============================] - 1s 39ms/step - loss: 0.0496 - accuracy: 0.9838 - val_loss: 0.0761 - val_accuracy: 0.9680\n",
      "Epoch 13/15\n",
      "36/36 [==============================] - 1s 40ms/step - loss: 0.0507 - accuracy: 0.9849 - val_loss: 0.0829 - val_accuracy: 0.9680\n",
      "Epoch 14/15\n",
      "36/36 [==============================] - 1s 39ms/step - loss: 0.0479 - accuracy: 0.9831 - val_loss: 0.0611 - val_accuracy: 0.9780\n",
      "Epoch 15/15\n",
      "36/36 [==============================] - 1s 39ms/step - loss: 0.0391 - accuracy: 0.9884 - val_loss: 0.0620 - val_accuracy: 0.9760\n"
     ]
    },
    {
     "data": {
      "text/plain": [
       "<keras.callbacks.History at 0x7fdef869efd0>"
      ]
     },
     "execution_count": 6,
     "metadata": {},
     "output_type": "execute_result"
    }
   ],
   "source": [
    "batch_size = 128\n",
    "epochs = 15\n",
    "\n",
    "model.compile(loss=\"categorical_crossentropy\", optimizer=\"adam\", metrics=[\"accuracy\"])\n",
    "\n",
    "model.fit(x_train, y_train, batch_size=batch_size, epochs=epochs, validation_split=0.1)"
   ]
  },
  {
   "cell_type": "code",
   "execution_count": 7,
   "id": "ebfff4c9-bb90-4101-bfe4-2f53a3a288b2",
   "metadata": {},
   "outputs": [
    {
     "name": "stdout",
     "output_type": "stream",
     "text": [
      "Test loss: 0.07534778863191605\n",
      "Test accuracy: 0.9789999723434448\n"
     ]
    }
   ],
   "source": [
    "score = model.evaluate(x_test, y_test, verbose=0)\n",
    "print(\"Test loss:\", score[0])\n",
    "print(\"Test accuracy:\", score[1])"
   ]
  },
  {
   "cell_type": "code",
   "execution_count": null,
   "id": "0f67c78c-ef55-4b86-8596-b5ac1e606b15",
   "metadata": {},
   "outputs": [],
   "source": []
  },
  {
   "cell_type": "code",
   "execution_count": null,
   "id": "02687108-a884-487b-b6b9-915afef3df28",
   "metadata": {},
   "outputs": [],
   "source": []
  },
  {
   "cell_type": "code",
   "execution_count": null,
   "id": "9f6e1cdd-3f24-4e9f-b332-f047683d0c54",
   "metadata": {},
   "outputs": [],
   "source": []
  }
 ],
 "metadata": {
  "kernelspec": {
   "display_name": "Python 3 (ipykernel)",
   "language": "python",
   "name": "python3"
  },
  "language_info": {
   "codemirror_mode": {
    "name": "ipython",
    "version": 3
   },
   "file_extension": ".py",
   "mimetype": "text/x-python",
   "name": "python",
   "nbconvert_exporter": "python",
   "pygments_lexer": "ipython3",
   "version": "3.9.13"
  }
 },
 "nbformat": 4,
 "nbformat_minor": 5
}
