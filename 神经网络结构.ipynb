{
 "cells": [
  {
   "cell_type": "code",
   "execution_count": 1,
   "id": "97afe8a4-c373-4e4d-b5f9-b7c1ec599f65",
   "metadata": {},
   "outputs": [],
   "source": [
    "import tensorflow as tf"
   ]
  },
  {
   "cell_type": "code",
   "execution_count": 2,
   "id": "a301e5fa-ed22-4396-9b02-77660962c5ec",
   "metadata": {},
   "outputs": [],
   "source": [
    "import numpy as np"
   ]
  },
  {
   "cell_type": "markdown",
   "id": "0f7592e3-1752-4345-9aee-1a7d245d8850",
   "metadata": {},
   "source": [
    "神经元的基本结构"
   ]
  },
  {
   "attachments": {
    "6e0c7dbf-46db-4e01-abe4-49fd23971772.png": {
     "image/png": "[encoded data removed]"
    }
   },
   "cell_type": "markdown",
   "id": "35bf4c24-c635-4a3a-b421-b8ec615de047",
   "metadata": {},
   "source": [
    "![image.png](attachment:6e0c7dbf-46db-4e01-abe4-49fd23971772.png)"
   ]
  },
  {
   "cell_type": "markdown",
   "id": "34b89b2c-20ba-46e9-88a5-bb95af2c0e17",
   "metadata": {},
   "source": [
    "## 张量的创建方式"
   ]
  },
  {
   "cell_type": "code",
   "execution_count": 3,
   "id": "9d0a99f5-d1d4-4ccc-becf-0fac1f4386bc",
   "metadata": {},
   "outputs": [
    {
     "name": "stderr",
     "output_type": "stream",
     "text": [
      "2022-09-14 00:52:45.888364: E tensorflow/stream_executor/cuda/cuda_driver.cc:271] failed call to cuInit: CUDA_ERROR_NO_DEVICE: no CUDA-capable device is detected\n",
      "2022-09-14 00:52:45.888451: I tensorflow/stream_executor/cuda/cuda_diagnostics.cc:156] kernel driver does not appear to be running on this host (liuyq-Workstation): /proc/driver/nvidia/version does not exist\n"
     ]
    }
   ],
   "source": [
    "x = tf.random.normal([2,784])"
   ]
  },
  {
   "cell_type": "code",
   "execution_count": 4,
   "id": "d8e1d280-6fa7-458e-9400-9bdd9df42b65",
   "metadata": {},
   "outputs": [],
   "source": [
    "w1 = tf.Variable(tf.random.truncated_normal([784, 256], stddev=0.1))"
   ]
  },
  {
   "cell_type": "code",
   "execution_count": 5,
   "id": "0131685c-1206-4fc1-9d3a-9129f23b1fb8",
   "metadata": {},
   "outputs": [
    {
     "data": {
      "text/plain": [
       "<tf.Tensor: shape=(2, 784), dtype=float32, numpy=\n",
       "array([[-0.88212293,  2.011423  ,  0.33801815, ..., -0.81516975,\n",
       "         0.45951754, -1.9795761 ],\n",
       "       [-0.58138436,  1.2578579 , -0.0693097 , ...,  0.24195221,\n",
       "        -0.41264117,  1.4069537 ]], dtype=float32)>"
      ]
     },
     "execution_count": 5,
     "metadata": {},
     "output_type": "execute_result"
    }
   ],
   "source": [
    "x"
   ]
  },
  {
   "cell_type": "code",
   "execution_count": 6,
   "id": "a3951df1-ebc2-4b69-af93-f311034561f1",
   "metadata": {},
   "outputs": [
    {
     "data": {
      "text/plain": [
       "<tf.Variable 'Variable:0' shape=(784, 256) dtype=float32, numpy=\n",
       "array([[ 0.06413224, -0.08739329, -0.08433124, ...,  0.05322883,\n",
       "         0.0800864 ,  0.09406754],\n",
       "       [-0.12915033,  0.05879213,  0.09019995, ...,  0.07061453,\n",
       "         0.01410423,  0.16631801],\n",
       "       [-0.063035  , -0.01602458,  0.08212316, ...,  0.02040334,\n",
       "        -0.16605754, -0.02276212],\n",
       "       ...,\n",
       "       [ 0.04661525,  0.02549985, -0.01590716, ...,  0.05631245,\n",
       "         0.10559537, -0.00088506],\n",
       "       [-0.04243413, -0.15733892,  0.10015501, ..., -0.1575324 ,\n",
       "        -0.07262256,  0.12051548],\n",
       "       [ 0.03644207,  0.08854585, -0.01530368, ..., -0.04640802,\n",
       "        -0.01464161, -0.08835942]], dtype=float32)>"
      ]
     },
     "execution_count": 6,
     "metadata": {},
     "output_type": "execute_result"
    }
   ],
   "source": [
    "w1"
   ]
  },
  {
   "cell_type": "code",
   "execution_count": 7,
   "id": "96f3e6d7-7bf6-4411-943b-1d541a5f0529",
   "metadata": {},
   "outputs": [],
   "source": [
    "b1 = tf.Variable(tf.zeros([256]))"
   ]
  },
  {
   "cell_type": "code",
   "execution_count": 8,
   "id": "d22fc729-e6c3-4cf1-b752-3e9dc5158382",
   "metadata": {},
   "outputs": [
    {
     "data": {
      "text/plain": [
       "<tf.Variable 'Variable:0' shape=(256,) dtype=float32, numpy=\n",
       "array([0., 0., 0., 0., 0., 0., 0., 0., 0., 0., 0., 0., 0., 0., 0., 0., 0.,\n",
       "       0., 0., 0., 0., 0., 0., 0., 0., 0., 0., 0., 0., 0., 0., 0., 0., 0.,\n",
       "       0., 0., 0., 0., 0., 0., 0., 0., 0., 0., 0., 0., 0., 0., 0., 0., 0.,\n",
       "       0., 0., 0., 0., 0., 0., 0., 0., 0., 0., 0., 0., 0., 0., 0., 0., 0.,\n",
       "       0., 0., 0., 0., 0., 0., 0., 0., 0., 0., 0., 0., 0., 0., 0., 0., 0.,\n",
       "       0., 0., 0., 0., 0., 0., 0., 0., 0., 0., 0., 0., 0., 0., 0., 0., 0.,\n",
       "       0., 0., 0., 0., 0., 0., 0., 0., 0., 0., 0., 0., 0., 0., 0., 0., 0.,\n",
       "       0., 0., 0., 0., 0., 0., 0., 0., 0., 0., 0., 0., 0., 0., 0., 0., 0.,\n",
       "       0., 0., 0., 0., 0., 0., 0., 0., 0., 0., 0., 0., 0., 0., 0., 0., 0.,\n",
       "       0., 0., 0., 0., 0., 0., 0., 0., 0., 0., 0., 0., 0., 0., 0., 0., 0.,\n",
       "       0., 0., 0., 0., 0., 0., 0., 0., 0., 0., 0., 0., 0., 0., 0., 0., 0.,\n",
       "       0., 0., 0., 0., 0., 0., 0., 0., 0., 0., 0., 0., 0., 0., 0., 0., 0.,\n",
       "       0., 0., 0., 0., 0., 0., 0., 0., 0., 0., 0., 0., 0., 0., 0., 0., 0.,\n",
       "       0., 0., 0., 0., 0., 0., 0., 0., 0., 0., 0., 0., 0., 0., 0., 0., 0.,\n",
       "       0., 0., 0., 0., 0., 0., 0., 0., 0., 0., 0., 0., 0., 0., 0., 0., 0.,\n",
       "       0.], dtype=float32)>"
      ]
     },
     "execution_count": 8,
     "metadata": {},
     "output_type": "execute_result"
    }
   ],
   "source": [
    "b1"
   ]
  },
  {
   "cell_type": "code",
   "execution_count": 9,
   "id": "1510d74f-3f25-47b5-9437-01679ac76caa",
   "metadata": {},
   "outputs": [],
   "source": [
    "o1 = tf.matmul(x,w1) + b1"
   ]
  },
  {
   "cell_type": "code",
   "execution_count": 10,
   "id": "6418460a-685a-4ba3-9d4a-a791627c1b38",
   "metadata": {},
   "outputs": [
    {
     "data": {
      "text/plain": [
       "TensorShape([2, 256])"
      ]
     },
     "execution_count": 10,
     "metadata": {},
     "output_type": "execute_result"
    }
   ],
   "source": [
    "o1.shape"
   ]
  },
  {
   "cell_type": "code",
   "execution_count": 11,
   "id": "b8d9c68d-2bc2-4998-a526-ac6281d6ce11",
   "metadata": {},
   "outputs": [
    {
     "data": {
      "text/plain": [
       "<tf.Tensor: shape=(2, 5), dtype=float32, numpy=\n",
       "array([[-3.424455  ,  0.35296595,  1.0287167 ,  2.0033758 ,  0.4077121 ],\n",
       "       [ 0.9136364 ,  0.04843616, -2.092989  ,  5.406645  ,  2.9212928 ]],\n",
       "      dtype=float32)>"
      ]
     },
     "execution_count": 11,
     "metadata": {},
     "output_type": "execute_result"
    }
   ],
   "source": [
    "o1[:,:5]"
   ]
  },
  {
   "cell_type": "code",
   "execution_count": 12,
   "id": "6bc1e4f3-22a6-4435-b507-52335c455555",
   "metadata": {},
   "outputs": [],
   "source": [
    "o1 = tf.nn.relu(o1)"
   ]
  },
  {
   "cell_type": "code",
   "execution_count": 13,
   "id": "0ac930ca-a735-4567-851c-0b959e1d0149",
   "metadata": {},
   "outputs": [
    {
     "data": {
      "text/plain": [
       "TensorShape([2, 256])"
      ]
     },
     "execution_count": 13,
     "metadata": {},
     "output_type": "execute_result"
    }
   ],
   "source": [
    "o1.shape"
   ]
  },
  {
   "cell_type": "code",
   "execution_count": 14,
   "id": "dfb71d51-763b-4d05-bfeb-d4055a87c66c",
   "metadata": {},
   "outputs": [
    {
     "data": {
      "text/plain": [
       "<tf.Tensor: shape=(2, 5), dtype=float32, numpy=\n",
       "array([[0.        , 0.35296595, 1.0287167 , 2.0033758 , 0.4077121 ],\n",
       "       [0.9136364 , 0.04843616, 0.        , 5.406645  , 2.9212928 ]],\n",
       "      dtype=float32)>"
      ]
     },
     "execution_count": 14,
     "metadata": {},
     "output_type": "execute_result"
    }
   ],
   "source": [
    "o1[:,:5]"
   ]
  },
  {
   "cell_type": "markdown",
   "id": "b0987dcb-7e4a-4ee8-9ef2-8a91e059a6ec",
   "metadata": {},
   "source": [
    "一个线性变换的实例"
   ]
  },
  {
   "cell_type": "code",
   "execution_count": 15,
   "id": "0d55d175-3780-40de-b696-43d907ea0615",
   "metadata": {},
   "outputs": [],
   "source": [
    "x = tf.random.normal([2,784])\n",
    "w1 = tf.Variable(tf.random.truncated_normal([784, 256], stddev=0.1))\n",
    "b1 = tf.Variable(tf.zeros([256]))\n",
    "o1 = tf.matmul(x,w1) + b1 # 线性变换\n",
    "o1 = tf.nn.relu(o1) # 激活函数"
   ]
  },
  {
   "cell_type": "code",
   "execution_count": 16,
   "id": "2988d6d8-45f8-47f4-b160-6b3b3a7d7731",
   "metadata": {},
   "outputs": [
    {
     "data": {
      "text/plain": [
       "TensorShape([2, 784])"
      ]
     },
     "execution_count": 16,
     "metadata": {},
     "output_type": "execute_result"
    }
   ],
   "source": [
    "x.shape"
   ]
  },
  {
   "cell_type": "code",
   "execution_count": 17,
   "id": "c2801538-7f6a-4bf0-9ef2-ae72a54d4b2d",
   "metadata": {},
   "outputs": [
    {
     "data": {
      "text/plain": [
       "TensorShape([2, 256])"
      ]
     },
     "execution_count": 17,
     "metadata": {},
     "output_type": "execute_result"
    }
   ],
   "source": [
    "o1.shape"
   ]
  },
  {
   "cell_type": "markdown",
   "id": "c81f24b4-38b1-4b13-8abc-4e592d0e9553",
   "metadata": {},
   "source": [
    "## 层方式实现一个线性变换"
   ]
  },
  {
   "cell_type": "code",
   "execution_count": 18,
   "id": "5cbb6905-7cdd-4b5e-b64f-b37f5e114c94",
   "metadata": {},
   "outputs": [],
   "source": [
    "x_new = tf.random.normal([4,28*28])\n",
    "from tensorflow.keras import layers # 导入层模块"
   ]
  },
  {
   "cell_type": "code",
   "execution_count": 19,
   "id": "1f3590ab-7405-4ea8-b2ac-d4cddb0a5f02",
   "metadata": {},
   "outputs": [],
   "source": [
    "# 创建全连接层，指定输出节点数和激活函数\n",
    "fc = layers.Dense(512, activation=tf.nn.relu)\n",
    "h1 = fc(x_new) # 通过fc 类实例完成一次全连接层的计算，返回输出张量"
   ]
  },
  {
   "cell_type": "code",
   "execution_count": 20,
   "id": "7b37c186-ed60-4fbc-a431-c0ffd6a3c5ee",
   "metadata": {},
   "outputs": [
    {
     "data": {
      "text/plain": [
       "TensorShape([2, 784])"
      ]
     },
     "execution_count": 20,
     "metadata": {},
     "output_type": "execute_result"
    }
   ],
   "source": [
    "x.shape"
   ]
  },
  {
   "cell_type": "code",
   "execution_count": 21,
   "id": "14ebffdb-6a9d-4c29-b568-f0f1b89ccf6d",
   "metadata": {},
   "outputs": [
    {
     "data": {
      "text/plain": [
       "TensorShape([4, 512])"
      ]
     },
     "execution_count": 21,
     "metadata": {},
     "output_type": "execute_result"
    }
   ],
   "source": [
    "h1.shape"
   ]
  },
  {
   "cell_type": "markdown",
   "id": "740c8b47-f5a6-446a-abe8-f6e4a8f3c272",
   "metadata": {},
   "source": [
    "### 查看fc的属性"
   ]
  },
  {
   "cell_type": "code",
   "execution_count": 22,
   "id": "16c22094-02ae-46c7-bdf1-12aa55a306fe",
   "metadata": {},
   "outputs": [
    {
     "data": {
      "text/plain": [
       "<tf.Variable 'dense/kernel:0' shape=(784, 512) dtype=float32, numpy=\n",
       "array([[ 0.0387257 , -0.03637442, -0.01409915, ..., -0.04173186,\n",
       "         0.01308553, -0.02474366],\n",
       "       [-0.05871486,  0.03172942, -0.0132503 , ..., -0.06648651,\n",
       "        -0.05279992,  0.0398904 ],\n",
       "       [-0.06100874,  0.01615536,  0.0013855 , ..., -0.04296927,\n",
       "        -0.01631684,  0.03067265],\n",
       "       ...,\n",
       "       [ 0.03076965, -0.00429072, -0.04579864, ..., -0.00313221,\n",
       "         0.02973998,  0.05405255],\n",
       "       [-0.03211744, -0.00517325, -0.01510322, ...,  0.05651995,\n",
       "        -0.03842103,  0.00190783],\n",
       "       [-0.02976267, -0.04423936, -0.00666913, ..., -0.031578  ,\n",
       "        -0.04109211, -0.0280639 ]], dtype=float32)>"
      ]
     },
     "execution_count": 22,
     "metadata": {},
     "output_type": "execute_result"
    }
   ],
   "source": [
    "#这里的kernel，是指w\n",
    "fc.kernel"
   ]
  },
  {
   "cell_type": "code",
   "execution_count": 23,
   "id": "9dfbb023-a9bc-4ba7-9aaf-a7bf0b84e12d",
   "metadata": {},
   "outputs": [
    {
     "data": {
      "text/plain": [
       "<tf.Variable 'dense/bias:0' shape=(512,) dtype=float32, numpy=\n",
       "array([0., 0., 0., 0., 0., 0., 0., 0., 0., 0., 0., 0., 0., 0., 0., 0., 0.,\n",
       "       0., 0., 0., 0., 0., 0., 0., 0., 0., 0., 0., 0., 0., 0., 0., 0., 0.,\n",
       "       0., 0., 0., 0., 0., 0., 0., 0., 0., 0., 0., 0., 0., 0., 0., 0., 0.,\n",
       "       0., 0., 0., 0., 0., 0., 0., 0., 0., 0., 0., 0., 0., 0., 0., 0., 0.,\n",
       "       0., 0., 0., 0., 0., 0., 0., 0., 0., 0., 0., 0., 0., 0., 0., 0., 0.,\n",
       "       0., 0., 0., 0., 0., 0., 0., 0., 0., 0., 0., 0., 0., 0., 0., 0., 0.,\n",
       "       0., 0., 0., 0., 0., 0., 0., 0., 0., 0., 0., 0., 0., 0., 0., 0., 0.,\n",
       "       0., 0., 0., 0., 0., 0., 0., 0., 0., 0., 0., 0., 0., 0., 0., 0., 0.,\n",
       "       0., 0., 0., 0., 0., 0., 0., 0., 0., 0., 0., 0., 0., 0., 0., 0., 0.,\n",
       "       0., 0., 0., 0., 0., 0., 0., 0., 0., 0., 0., 0., 0., 0., 0., 0., 0.,\n",
       "       0., 0., 0., 0., 0., 0., 0., 0., 0., 0., 0., 0., 0., 0., 0., 0., 0.,\n",
       "       0., 0., 0., 0., 0., 0., 0., 0., 0., 0., 0., 0., 0., 0., 0., 0., 0.,\n",
       "       0., 0., 0., 0., 0., 0., 0., 0., 0., 0., 0., 0., 0., 0., 0., 0., 0.,\n",
       "       0., 0., 0., 0., 0., 0., 0., 0., 0., 0., 0., 0., 0., 0., 0., 0., 0.,\n",
       "       0., 0., 0., 0., 0., 0., 0., 0., 0., 0., 0., 0., 0., 0., 0., 0., 0.,\n",
       "       0., 0., 0., 0., 0., 0., 0., 0., 0., 0., 0., 0., 0., 0., 0., 0., 0.,\n",
       "       0., 0., 0., 0., 0., 0., 0., 0., 0., 0., 0., 0., 0., 0., 0., 0., 0.,\n",
       "       0., 0., 0., 0., 0., 0., 0., 0., 0., 0., 0., 0., 0., 0., 0., 0., 0.,\n",
       "       0., 0., 0., 0., 0., 0., 0., 0., 0., 0., 0., 0., 0., 0., 0., 0., 0.,\n",
       "       0., 0., 0., 0., 0., 0., 0., 0., 0., 0., 0., 0., 0., 0., 0., 0., 0.,\n",
       "       0., 0., 0., 0., 0., 0., 0., 0., 0., 0., 0., 0., 0., 0., 0., 0., 0.,\n",
       "       0., 0., 0., 0., 0., 0., 0., 0., 0., 0., 0., 0., 0., 0., 0., 0., 0.,\n",
       "       0., 0., 0., 0., 0., 0., 0., 0., 0., 0., 0., 0., 0., 0., 0., 0., 0.,\n",
       "       0., 0., 0., 0., 0., 0., 0., 0., 0., 0., 0., 0., 0., 0., 0., 0., 0.,\n",
       "       0., 0., 0., 0., 0., 0., 0., 0., 0., 0., 0., 0., 0., 0., 0., 0., 0.,\n",
       "       0., 0., 0., 0., 0., 0., 0., 0., 0., 0., 0., 0., 0., 0., 0., 0., 0.,\n",
       "       0., 0., 0., 0., 0., 0., 0., 0., 0., 0., 0., 0., 0., 0., 0., 0., 0.,\n",
       "       0., 0., 0., 0., 0., 0., 0., 0., 0., 0., 0., 0., 0., 0., 0., 0., 0.,\n",
       "       0., 0., 0., 0., 0., 0., 0., 0., 0., 0., 0., 0., 0., 0., 0., 0., 0.,\n",
       "       0., 0., 0., 0., 0., 0., 0., 0., 0., 0., 0., 0., 0., 0., 0., 0., 0.,\n",
       "       0., 0.], dtype=float32)>"
      ]
     },
     "execution_count": 23,
     "metadata": {},
     "output_type": "execute_result"
    }
   ],
   "source": [
    "fc.bias # 获取Dense 类的偏置向量"
   ]
  },
  {
   "cell_type": "code",
   "execution_count": 24,
   "id": "b76c0162-ba9b-4efd-b82f-73b77bbb81a5",
   "metadata": {},
   "outputs": [
    {
     "data": {
      "text/plain": [
       "[<tf.Variable 'dense/kernel:0' shape=(784, 512) dtype=float32, numpy=\n",
       " array([[ 0.0387257 , -0.03637442, -0.01409915, ..., -0.04173186,\n",
       "          0.01308553, -0.02474366],\n",
       "        [-0.05871486,  0.03172942, -0.0132503 , ..., -0.06648651,\n",
       "         -0.05279992,  0.0398904 ],\n",
       "        [-0.06100874,  0.01615536,  0.0013855 , ..., -0.04296927,\n",
       "         -0.01631684,  0.03067265],\n",
       "        ...,\n",
       "        [ 0.03076965, -0.00429072, -0.04579864, ..., -0.00313221,\n",
       "          0.02973998,  0.05405255],\n",
       "        [-0.03211744, -0.00517325, -0.01510322, ...,  0.05651995,\n",
       "         -0.03842103,  0.00190783],\n",
       "        [-0.02976267, -0.04423936, -0.00666913, ..., -0.031578  ,\n",
       "         -0.04109211, -0.0280639 ]], dtype=float32)>,\n",
       " <tf.Variable 'dense/bias:0' shape=(512,) dtype=float32, numpy=\n",
       " array([0., 0., 0., 0., 0., 0., 0., 0., 0., 0., 0., 0., 0., 0., 0., 0., 0.,\n",
       "        0., 0., 0., 0., 0., 0., 0., 0., 0., 0., 0., 0., 0., 0., 0., 0., 0.,\n",
       "        0., 0., 0., 0., 0., 0., 0., 0., 0., 0., 0., 0., 0., 0., 0., 0., 0.,\n",
       "        0., 0., 0., 0., 0., 0., 0., 0., 0., 0., 0., 0., 0., 0., 0., 0., 0.,\n",
       "        0., 0., 0., 0., 0., 0., 0., 0., 0., 0., 0., 0., 0., 0., 0., 0., 0.,\n",
       "        0., 0., 0., 0., 0., 0., 0., 0., 0., 0., 0., 0., 0., 0., 0., 0., 0.,\n",
       "        0., 0., 0., 0., 0., 0., 0., 0., 0., 0., 0., 0., 0., 0., 0., 0., 0.,\n",
       "        0., 0., 0., 0., 0., 0., 0., 0., 0., 0., 0., 0., 0., 0., 0., 0., 0.,\n",
       "        0., 0., 0., 0., 0., 0., 0., 0., 0., 0., 0., 0., 0., 0., 0., 0., 0.,\n",
       "        0., 0., 0., 0., 0., 0., 0., 0., 0., 0., 0., 0., 0., 0., 0., 0., 0.,\n",
       "        0., 0., 0., 0., 0., 0., 0., 0., 0., 0., 0., 0., 0., 0., 0., 0., 0.,\n",
       "        0., 0., 0., 0., 0., 0., 0., 0., 0., 0., 0., 0., 0., 0., 0., 0., 0.,\n",
       "        0., 0., 0., 0., 0., 0., 0., 0., 0., 0., 0., 0., 0., 0., 0., 0., 0.,\n",
       "        0., 0., 0., 0., 0., 0., 0., 0., 0., 0., 0., 0., 0., 0., 0., 0., 0.,\n",
       "        0., 0., 0., 0., 0., 0., 0., 0., 0., 0., 0., 0., 0., 0., 0., 0., 0.,\n",
       "        0., 0., 0., 0., 0., 0., 0., 0., 0., 0., 0., 0., 0., 0., 0., 0., 0.,\n",
       "        0., 0., 0., 0., 0., 0., 0., 0., 0., 0., 0., 0., 0., 0., 0., 0., 0.,\n",
       "        0., 0., 0., 0., 0., 0., 0., 0., 0., 0., 0., 0., 0., 0., 0., 0., 0.,\n",
       "        0., 0., 0., 0., 0., 0., 0., 0., 0., 0., 0., 0., 0., 0., 0., 0., 0.,\n",
       "        0., 0., 0., 0., 0., 0., 0., 0., 0., 0., 0., 0., 0., 0., 0., 0., 0.,\n",
       "        0., 0., 0., 0., 0., 0., 0., 0., 0., 0., 0., 0., 0., 0., 0., 0., 0.,\n",
       "        0., 0., 0., 0., 0., 0., 0., 0., 0., 0., 0., 0., 0., 0., 0., 0., 0.,\n",
       "        0., 0., 0., 0., 0., 0., 0., 0., 0., 0., 0., 0., 0., 0., 0., 0., 0.,\n",
       "        0., 0., 0., 0., 0., 0., 0., 0., 0., 0., 0., 0., 0., 0., 0., 0., 0.,\n",
       "        0., 0., 0., 0., 0., 0., 0., 0., 0., 0., 0., 0., 0., 0., 0., 0., 0.,\n",
       "        0., 0., 0., 0., 0., 0., 0., 0., 0., 0., 0., 0., 0., 0., 0., 0., 0.,\n",
       "        0., 0., 0., 0., 0., 0., 0., 0., 0., 0., 0., 0., 0., 0., 0., 0., 0.,\n",
       "        0., 0., 0., 0., 0., 0., 0., 0., 0., 0., 0., 0., 0., 0., 0., 0., 0.,\n",
       "        0., 0., 0., 0., 0., 0., 0., 0., 0., 0., 0., 0., 0., 0., 0., 0., 0.,\n",
       "        0., 0., 0., 0., 0., 0., 0., 0., 0., 0., 0., 0., 0., 0., 0., 0., 0.,\n",
       "        0., 0.], dtype=float32)>]"
      ]
     },
     "execution_count": 24,
     "metadata": {},
     "output_type": "execute_result"
    }
   ],
   "source": [
    "fc.trainable_variables"
   ]
  },
  {
   "cell_type": "code",
   "execution_count": 25,
   "id": "3eee4d42-6a9b-47dc-b93d-a6b37ce4540d",
   "metadata": {},
   "outputs": [
    {
     "data": {
      "text/plain": [
       "[<tf.Variable 'dense/kernel:0' shape=(784, 512) dtype=float32, numpy=\n",
       " array([[ 0.0387257 , -0.03637442, -0.01409915, ..., -0.04173186,\n",
       "          0.01308553, -0.02474366],\n",
       "        [-0.05871486,  0.03172942, -0.0132503 , ..., -0.06648651,\n",
       "         -0.05279992,  0.0398904 ],\n",
       "        [-0.06100874,  0.01615536,  0.0013855 , ..., -0.04296927,\n",
       "         -0.01631684,  0.03067265],\n",
       "        ...,\n",
       "        [ 0.03076965, -0.00429072, -0.04579864, ..., -0.00313221,\n",
       "          0.02973998,  0.05405255],\n",
       "        [-0.03211744, -0.00517325, -0.01510322, ...,  0.05651995,\n",
       "         -0.03842103,  0.00190783],\n",
       "        [-0.02976267, -0.04423936, -0.00666913, ..., -0.031578  ,\n",
       "         -0.04109211, -0.0280639 ]], dtype=float32)>,\n",
       " <tf.Variable 'dense/bias:0' shape=(512,) dtype=float32, numpy=\n",
       " array([0., 0., 0., 0., 0., 0., 0., 0., 0., 0., 0., 0., 0., 0., 0., 0., 0.,\n",
       "        0., 0., 0., 0., 0., 0., 0., 0., 0., 0., 0., 0., 0., 0., 0., 0., 0.,\n",
       "        0., 0., 0., 0., 0., 0., 0., 0., 0., 0., 0., 0., 0., 0., 0., 0., 0.,\n",
       "        0., 0., 0., 0., 0., 0., 0., 0., 0., 0., 0., 0., 0., 0., 0., 0., 0.,\n",
       "        0., 0., 0., 0., 0., 0., 0., 0., 0., 0., 0., 0., 0., 0., 0., 0., 0.,\n",
       "        0., 0., 0., 0., 0., 0., 0., 0., 0., 0., 0., 0., 0., 0., 0., 0., 0.,\n",
       "        0., 0., 0., 0., 0., 0., 0., 0., 0., 0., 0., 0., 0., 0., 0., 0., 0.,\n",
       "        0., 0., 0., 0., 0., 0., 0., 0., 0., 0., 0., 0., 0., 0., 0., 0., 0.,\n",
       "        0., 0., 0., 0., 0., 0., 0., 0., 0., 0., 0., 0., 0., 0., 0., 0., 0.,\n",
       "        0., 0., 0., 0., 0., 0., 0., 0., 0., 0., 0., 0., 0., 0., 0., 0., 0.,\n",
       "        0., 0., 0., 0., 0., 0., 0., 0., 0., 0., 0., 0., 0., 0., 0., 0., 0.,\n",
       "        0., 0., 0., 0., 0., 0., 0., 0., 0., 0., 0., 0., 0., 0., 0., 0., 0.,\n",
       "        0., 0., 0., 0., 0., 0., 0., 0., 0., 0., 0., 0., 0., 0., 0., 0., 0.,\n",
       "        0., 0., 0., 0., 0., 0., 0., 0., 0., 0., 0., 0., 0., 0., 0., 0., 0.,\n",
       "        0., 0., 0., 0., 0., 0., 0., 0., 0., 0., 0., 0., 0., 0., 0., 0., 0.,\n",
       "        0., 0., 0., 0., 0., 0., 0., 0., 0., 0., 0., 0., 0., 0., 0., 0., 0.,\n",
       "        0., 0., 0., 0., 0., 0., 0., 0., 0., 0., 0., 0., 0., 0., 0., 0., 0.,\n",
       "        0., 0., 0., 0., 0., 0., 0., 0., 0., 0., 0., 0., 0., 0., 0., 0., 0.,\n",
       "        0., 0., 0., 0., 0., 0., 0., 0., 0., 0., 0., 0., 0., 0., 0., 0., 0.,\n",
       "        0., 0., 0., 0., 0., 0., 0., 0., 0., 0., 0., 0., 0., 0., 0., 0., 0.,\n",
       "        0., 0., 0., 0., 0., 0., 0., 0., 0., 0., 0., 0., 0., 0., 0., 0., 0.,\n",
       "        0., 0., 0., 0., 0., 0., 0., 0., 0., 0., 0., 0., 0., 0., 0., 0., 0.,\n",
       "        0., 0., 0., 0., 0., 0., 0., 0., 0., 0., 0., 0., 0., 0., 0., 0., 0.,\n",
       "        0., 0., 0., 0., 0., 0., 0., 0., 0., 0., 0., 0., 0., 0., 0., 0., 0.,\n",
       "        0., 0., 0., 0., 0., 0., 0., 0., 0., 0., 0., 0., 0., 0., 0., 0., 0.,\n",
       "        0., 0., 0., 0., 0., 0., 0., 0., 0., 0., 0., 0., 0., 0., 0., 0., 0.,\n",
       "        0., 0., 0., 0., 0., 0., 0., 0., 0., 0., 0., 0., 0., 0., 0., 0., 0.,\n",
       "        0., 0., 0., 0., 0., 0., 0., 0., 0., 0., 0., 0., 0., 0., 0., 0., 0.,\n",
       "        0., 0., 0., 0., 0., 0., 0., 0., 0., 0., 0., 0., 0., 0., 0., 0., 0.,\n",
       "        0., 0., 0., 0., 0., 0., 0., 0., 0., 0., 0., 0., 0., 0., 0., 0., 0.,\n",
       "        0., 0.], dtype=float32)>]"
      ]
     },
     "execution_count": 25,
     "metadata": {},
     "output_type": "execute_result"
    }
   ],
   "source": [
    "fc.variables #返回所有参数列表"
   ]
  },
  {
   "cell_type": "markdown",
   "id": "f6815be2-db17-4375-a593-8c653d75fed1",
   "metadata": {},
   "source": [
    "## 神经网络的基本结构"
   ]
  },
  {
   "attachments": {
    "63265f73-e898-4ada-9272-ad61d8a6d0ce.png": {
     "image/png": "[encoded data removed]"
    }
   },
   "cell_type": "markdown",
   "id": "33c9ffe0-a50b-467c-81ee-e84805ebe790",
   "metadata": {},
   "source": [
    "![image.png](attachment:63265f73-e898-4ada-9272-ad61d8a6d0ce.png)"
   ]
  },
  {
   "cell_type": "markdown",
   "id": "42eb297a-9824-412a-8b14-f2a279094bbe",
   "metadata": {},
   "source": [
    "### 手动实现方式"
   ]
  },
  {
   "cell_type": "code",
   "execution_count": 26,
   "id": "739ff983-8029-4cd5-9462-272e73ee31e9",
   "metadata": {},
   "outputs": [],
   "source": [
    "# 隐藏层1 张量\n",
    "w1 = tf.Variable(tf.random.truncated_normal([784, 256], stddev=0.1))\n",
    "b1 = tf.Variable(tf.zeros([256]))\n",
    "# 隐藏层2 张量\n",
    "w2 = tf.Variable(tf.random.truncated_normal([256, 128], stddev=0.1))\n",
    "b2 = tf.Variable(tf.zeros([128]))\n",
    "# 隐藏层3 张量\n",
    "w3 = tf.Variable(tf.random.truncated_normal([128, 64], stddev=0.1))\n",
    "b3 = tf.Variable(tf.zeros([64]))\n",
    "# 输出层张量\n",
    "w4 = tf.Variable(tf.random.truncated_normal([64, 10], stddev=0.1))\n",
    "b4 = tf.Variable(tf.zeros([10]))"
   ]
  },
  {
   "cell_type": "code",
   "execution_count": 27,
   "id": "a9bcbf7c-ee9b-410c-b6bf-3d3442df67e4",
   "metadata": {},
   "outputs": [],
   "source": [
    "with tf.GradientTape() as tape: # 梯度记录器\n",
    "    # x: [b, 28*28]\n",
    "    # 隐藏层1 前向计算，[b, 28*28] => [b, 256]\n",
    "    h1 = x@w1 + tf.broadcast_to(b1, [x.shape[0], 256])\n",
    "    h1 = tf.nn.relu(h1)\n",
    "    # 隐藏层2 前向计算，[b, 256] => [b, 128]\n",
    "    h2 = h1@w2 + b2\n",
    "    h2 = tf.nn.relu(h2)\n",
    "    # 隐藏层3 前向计算，[b, 128] => [b, 64]\n",
    "    h3 = h2@w3 + b3\n",
    "    h3 = tf.nn.relu(h3)\n",
    "    # 输出层前向计算，[b, 64] => [b, 10]\n",
    "    h4 = h3@w4 + b4"
   ]
  },
  {
   "cell_type": "code",
   "execution_count": 28,
   "id": "82cdb0f1-3b5b-4efa-8fba-5a5f9a318d56",
   "metadata": {},
   "outputs": [],
   "source": [
    "# 导入常用网络层layers\n",
    "from tensorflow.keras import layers,Sequential\n",
    "\n",
    "fc1 = layers.Dense(256, activation=tf.nn.relu) # 隐藏层1\n",
    "fc2 = layers.Dense(128, activation=tf.nn.relu) # 隐藏层2\n",
    "fc3 = layers.Dense(64, activation=tf.nn.relu) # 隐藏层3\n",
    "fc4 = layers.Dense(10, activation=None) # 输出层"
   ]
  },
  {
   "cell_type": "code",
   "execution_count": 29,
   "id": "c9b4a2b3-dc3a-4465-897c-3bbcc1c174cc",
   "metadata": {},
   "outputs": [],
   "source": [
    "x = tf.random.normal([4,28*28])\n",
    "h1 = fc1(x) # 通过隐藏层1 得到输出\n",
    "h2 = fc2(h1) # 通过隐藏层2 得到输出\n",
    "h3 = fc3(h2) # 通过隐藏层3 得到输出\n",
    "h4 = fc4(h3) # 通过输出层得到网络输出"
   ]
  },
  {
   "cell_type": "code",
   "execution_count": 30,
   "id": "b5ef909f-07e9-4c3d-8cb9-7cc0340219b1",
   "metadata": {},
   "outputs": [
    {
     "name": "stdout",
     "output_type": "stream",
     "text": [
      "x的形状为: (4, 784) \n",
      " h1的形状为: (4, 256) \n",
      " h2的形状为: (4, 128) \n",
      " h3的形状为: (4, 64) \n",
      " h4的形状为: (4, 10) \n",
      "\n"
     ]
    }
   ],
   "source": [
    "print(\"x的形状为:\", x.shape,\"\\n\",\n",
    "     \"h1的形状为:\", h1.shape,\"\\n\",\n",
    "     \"h2的形状为:\", h2.shape,\"\\n\",\n",
    "     \"h3的形状为:\", h3.shape,\"\\n\",\n",
    "     \"h4的形状为:\", h4.shape,\"\\n\",)"
   ]
  },
  {
   "cell_type": "markdown",
   "id": "d91978ef-3fd4-458d-aee1-4475e3c9ed00",
   "metadata": {},
   "source": [
    "### 基于序列容器模型实现导入"
   ]
  },
  {
   "cell_type": "code",
   "execution_count": 31,
   "id": "fbf5470e-2dbb-4663-800f-d9d1b4c7803c",
   "metadata": {},
   "outputs": [],
   "source": [
    "# 导入Sequential 容器\n",
    "from tensorflow.keras import layers,Sequential"
   ]
  },
  {
   "cell_type": "code",
   "execution_count": 32,
   "id": "2b3dd3af-f40d-4f83-84b2-6ec5d469ce4c",
   "metadata": {},
   "outputs": [],
   "source": [
    "# 通过Sequential 容器封装为一个网络类\n",
    "model = Sequential([\n",
    "    layers.Dense(256, activation=tf.nn.relu) , # 创建隐藏层1\n",
    "    layers.Dense(128, activation=tf.nn.relu) , # 创建隐藏层2\n",
    "    layers.Dense(64, activation=tf.nn.relu) , # 创建隐藏层3\n",
    "    layers.Dense(10, activation=None) , # 创建输出层\n",
    "])"
   ]
  },
  {
   "cell_type": "code",
   "execution_count": 33,
   "id": "4912a756-88d3-4418-ac06-b05d4362f773",
   "metadata": {},
   "outputs": [],
   "source": [
    "out = model(x)"
   ]
  },
  {
   "cell_type": "code",
   "execution_count": 34,
   "id": "614e354d-f7aa-4c63-8b6b-113ac3eff1ea",
   "metadata": {},
   "outputs": [
    {
     "name": "stdout",
     "output_type": "stream",
     "text": [
      "x的形状为: (4, 784) \n",
      " out的形状为: (4, 10) \n",
      "\n"
     ]
    }
   ],
   "source": [
    "print(\"x的形状为:\", x.shape,\"\\n\",\n",
    "     \"out的形状为:\", out.shape,\"\\n\",)"
   ]
  },
  {
   "cell_type": "markdown",
   "id": "db2c5224-a052-4d69-8d33-e4b50d63ed43",
   "metadata": {},
   "source": [
    "### 常见的激活函数"
   ]
  },
  {
   "cell_type": "code",
   "execution_count": 35,
   "id": "3e72a203-3b67-4224-8891-fcbaa0eb12de",
   "metadata": {},
   "outputs": [],
   "source": [
    "x = tf.linspace(-6.,6.,10)"
   ]
  },
  {
   "cell_type": "code",
   "execution_count": 36,
   "id": "c3bad98d-e9c1-42fd-a0d7-5c108e4e46fc",
   "metadata": {},
   "outputs": [
    {
     "data": {
      "text/plain": [
       "<tf.Tensor: shape=(10,), dtype=float32, numpy=\n",
       "array([-6.       , -4.6666665, -3.3333333, -2.       , -0.6666665,\n",
       "        0.666667 ,  2.       ,  3.333334 ,  4.666667 ,  6.       ],\n",
       "      dtype=float32)>"
      ]
     },
     "execution_count": 36,
     "metadata": {},
     "output_type": "execute_result"
    }
   ],
   "source": [
    "x"
   ]
  },
  {
   "cell_type": "code",
   "execution_count": 37,
   "id": "d97a38f5-c9f3-4060-89f7-bf422fc09fea",
   "metadata": {},
   "outputs": [
    {
     "data": {
      "text/plain": [
       "<tf.Tensor: shape=(10,), dtype=float32, numpy=\n",
       "array([0.00247262, 0.00931596, 0.0344452 , 0.11920292, 0.33924365,\n",
       "       0.6607564 , 0.8807971 , 0.96555483, 0.99068403, 0.99752736],\n",
       "      dtype=float32)>"
      ]
     },
     "execution_count": 37,
     "metadata": {},
     "output_type": "execute_result"
    }
   ],
   "source": [
    "tf.nn.sigmoid(x)"
   ]
  },
  {
   "cell_type": "markdown",
   "id": "330de5cf-05c7-4f09-9855-4a6b4fa148a6",
   "metadata": {},
   "source": [
    "### sigmoid 函数图像"
   ]
  },
  {
   "cell_type": "code",
   "execution_count": 38,
   "id": "95133ece-459d-45fd-a1e5-4982288f25ec",
   "metadata": {},
   "outputs": [],
   "source": [
    "import numpy as np\n",
    "import matplotlib.pyplot as plt\n",
    "def plot_func(x, y):\n",
    "    # 设置横坐标的刻度，-6到6\n",
    "    plt.xlim((-6,6))\n",
    "    #用上述生成的1000个xy值对生成1000个点\n",
    "    plt.plot(x,y,color='darkblue')\n",
    "    # plt.plot()实际上会通过plt.gca()获得当前的Axes对象ax，然后再调用ax.plot()方法实现真正的绘图。\n",
    "    ax=plt.gca()\n",
    "    #删除右边框设为无\n",
    "    ax.spines['right'].set_color('none')\n",
    "    #删除上边框设为无\n",
    "    ax.spines['top'].set_color('none')\n",
    "\n",
    "    # ax.xaxis.set_ticks_position('bottom')\n",
    "    # #调整x轴位置,在 y = 0 处\n",
    "    ax.spines['bottom'].set_position(('data', 0))\n",
    "    ax.yaxis.set_ticks_position('left')\n",
    "    # #调整y轴位置，在 x = 0 处\n",
    "    ax.spines['left'].set_position(('data', 0))\n",
    "    # 设置横坐标下的说明文本\n",
    "\n",
    "    plt.show()"
   ]
  },
  {
   "cell_type": "code",
   "execution_count": 39,
   "id": "fecfdeec-9121-4f83-91ec-a1b6dba9da91",
   "metadata": {},
   "outputs": [
    {
     "data": {
      "image/png": "[encoded data removed]",
      "text/plain": [
       "<Figure size 640x480 with 1 Axes>"
      ]
     },
     "metadata": {},
     "output_type": "display_data"
    }
   ],
   "source": [
    "# 这个表示在-5到5之间生成1000个x值\n",
    "x=np.linspace(-5,5,1000)\n",
    "# 对上述生成的1000个数循环用sigmoid公式求对应的y\n",
    "y=[1/(1+np.exp(-i)) for i in x]\n",
    "plot_func(x, y)"
   ]
  },
  {
   "cell_type": "markdown",
   "id": "28d8d326-c028-4e71-a426-6f9ab0b4e622",
   "metadata": {},
   "source": [
    "### ReLU 函数图像"
   ]
  },
  {
   "cell_type": "code",
   "execution_count": 40,
   "id": "ca151074-a767-4dd0-a4c7-bd28a016aafb",
   "metadata": {},
   "outputs": [
    {
     "data": {
      "image/png": "[encoded data removed]",
      "text/plain": [
       "<Figure size 640x480 with 1 Axes>"
      ]
     },
     "metadata": {},
     "output_type": "display_data"
    }
   ],
   "source": [
    "# 这个表示在-5到5之间生成1000个x值\n",
    "x=np.linspace(-5,5,1000)\n",
    "# 对上述生成的1000个数循环用公式求对应的y\n",
    "y=[i if i >0 else 0 for i in x]\n",
    "plot_func(x, y)"
   ]
  },
  {
   "cell_type": "code",
   "execution_count": 41,
   "id": "8d60714a-f549-4aef-860b-f359f57ce398",
   "metadata": {},
   "outputs": [],
   "source": [
    "out = tf.nn.relu(x)"
   ]
  },
  {
   "cell_type": "code",
   "execution_count": 42,
   "id": "c180007e-d2a6-4243-91f3-f547eb882049",
   "metadata": {},
   "outputs": [
    {
     "data": {
      "text/plain": [
       "TensorShape([1000])"
      ]
     },
     "execution_count": 42,
     "metadata": {},
     "output_type": "execute_result"
    }
   ],
   "source": [
    "out.shape"
   ]
  },
  {
   "cell_type": "markdown",
   "id": "5e0d81b0-25b2-477a-9e91-82e4b7e61b14",
   "metadata": {},
   "source": [
    "### LeakyReLU"
   ]
  },
  {
   "cell_type": "code",
   "execution_count": 43,
   "id": "703d8cd3-c391-4be7-88fa-62875f3d958b",
   "metadata": {},
   "outputs": [],
   "source": [
    "out = tf.nn.leaky_relu(x, alpha=0.1) # 通过LeakyReLU激活函数"
   ]
  },
  {
   "cell_type": "code",
   "execution_count": 44,
   "id": "516f7c2d-9cc8-44b4-b475-6acdc0de74f7",
   "metadata": {},
   "outputs": [
    {
     "data": {
      "image/png": "[encoded data removed]",
      "text/plain": [
       "<Figure size 640x480 with 1 Axes>"
      ]
     },
     "metadata": {},
     "output_type": "display_data"
    }
   ],
   "source": [
    "# 这个表示在-5到5之间生成1000个x值\n",
    "x=np.linspace(-5,5,1000)\n",
    "# 对上述生成的1000个数循环用公式求对应的y\n",
    "y=[i if i >0 else 0.05*i for i in x]\n",
    "plot_func(x, y)"
   ]
  },
  {
   "cell_type": "markdown",
   "id": "0d0f5e56-8c92-41bf-9d74-e3f440818b8e",
   "metadata": {},
   "source": [
    "### Tanh函数"
   ]
  },
  {
   "cell_type": "code",
   "execution_count": 45,
   "id": "a5811bf1-b143-4078-8706-7dc67ec841a4",
   "metadata": {},
   "outputs": [
    {
     "data": {
      "image/png": "[encoded data removed]",
      "text/plain": [
       "<Figure size 640x480 with 1 Axes>"
      ]
     },
     "metadata": {},
     "output_type": "display_data"
    }
   ],
   "source": [
    "# 这个表示在-5到5之间生成1000个x值\n",
    "x=np.linspace(-5,5,1000)\n",
    "# 对上述生成的1000个数循环用公式求对应的y\n",
    "# 这里演示将tf的张量转换为numpy 的方法\n",
    "y=tf.nn.tanh(x).numpy()\n",
    "plot_func(x, y)"
   ]
  },
  {
   "cell_type": "code",
   "execution_count": 46,
   "id": "1094dac5-8dc3-482b-a11e-15c82a4b9acb",
   "metadata": {},
   "outputs": [
    {
     "data": {
      "image/png": "[encoded data removed]",
      "text/plain": [
       "<Figure size 640x480 with 1 Axes>"
      ]
     },
     "metadata": {},
     "output_type": "display_data"
    }
   ],
   "source": [
    "# 这个表示在-5到5之间生成1000个x值\n",
    "x=np.linspace(-5,5,1000)\n",
    "# 对上述生成的1000个数循环用公式求对应的y\n",
    "#sigmoid\n",
    "def sigmoid(x_i):\n",
    "    return 1/(1+np.exp(-x_i))\n",
    "#tanh\n",
    "y=[2*sigmoid(2*i) - 1 for i in x]\n",
    "plot_func(x, y)"
   ]
  },
  {
   "cell_type": "code",
   "execution_count": null,
   "id": "fd9cde1d-c6a4-47e8-b657-bc26536e98a8",
   "metadata": {},
   "outputs": [],
   "source": []
  },
  {
   "cell_type": "markdown",
   "id": "18b534df-bfe1-42e3-ab82-4fce776f4992",
   "metadata": {},
   "source": [
    "## 输出层网络的设计"
   ]
  },
  {
   "cell_type": "markdown",
   "id": "9588fe7e-3db4-479e-8e3f-c2d4443cc3e1",
   "metadata": {},
   "source": [
    "### 输出在0到1之间"
   ]
  },
  {
   "cell_type": "code",
   "execution_count": 47,
   "id": "96c56287-4ad1-4823-a16c-ac6d2c76e1e2",
   "metadata": {},
   "outputs": [
    {
     "data": {
      "text/plain": [
       "<tf.Tensor: shape=(10,), dtype=float32, numpy=\n",
       "array([0.00247262, 0.00931596, 0.0344452 , 0.11920292, 0.33924365,\n",
       "       0.6607564 , 0.8807971 , 0.96555483, 0.99068403, 0.99752736],\n",
       "      dtype=float32)>"
      ]
     },
     "execution_count": 47,
     "metadata": {},
     "output_type": "execute_result"
    }
   ],
   "source": [
    "x = tf.linspace(-6.,6.,10)\n",
    "tf.nn.sigmoid(x) # 通过Sigmoid 函数"
   ]
  },
  {
   "cell_type": "markdown",
   "id": "d36783d2-3f72-4d14-b9f4-40e67ec52cf0",
   "metadata": {},
   "source": [
    "### 多输出概率和为一"
   ]
  },
  {
   "cell_type": "code",
   "execution_count": 48,
   "id": "ffcbc90e-bf88-43e8-b2dd-1afccdf84cd8",
   "metadata": {},
   "outputs": [],
   "source": [
    "z=tf.constant([2.,1.,0.1])"
   ]
  },
  {
   "cell_type": "code",
   "execution_count": 49,
   "id": "448f81c6-fa26-45ac-8d4b-1550a5c6e6a5",
   "metadata": {},
   "outputs": [
    {
     "data": {
      "text/plain": [
       "TensorShape([3])"
      ]
     },
     "execution_count": 49,
     "metadata": {},
     "output_type": "execute_result"
    }
   ],
   "source": [
    "z.shape"
   ]
  },
  {
   "cell_type": "code",
   "execution_count": 50,
   "id": "deb38165-6b03-423e-936a-7b0162b8c4aa",
   "metadata": {},
   "outputs": [
    {
     "data": {
      "text/plain": [
       "<tf.Tensor: shape=(3,), dtype=float32, numpy=array([0.6590012 , 0.24243298, 0.09856589], dtype=float32)>"
      ]
     },
     "execution_count": 50,
     "metadata": {},
     "output_type": "execute_result"
    }
   ],
   "source": [
    "tf.nn.softmax(z) # 通过Softmax 函数"
   ]
  },
  {
   "cell_type": "code",
   "execution_count": 51,
   "id": "0e9e8341-bb48-445a-b1fd-571b88ae99f9",
   "metadata": {},
   "outputs": [
    {
     "data": {
      "text/plain": [
       "<tf.Tensor: shape=(), dtype=float32, numpy=1.0000001>"
      ]
     },
     "execution_count": 51,
     "metadata": {},
     "output_type": "execute_result"
    }
   ],
   "source": [
    "tf.reduce_sum(tf.nn.softmax(z))"
   ]
  },
  {
   "cell_type": "markdown",
   "id": "cc288bc7-08be-4308-a514-91b6ef37827c",
   "metadata": {},
   "source": [
    "### 输出范围在[-1,1]"
   ]
  },
  {
   "cell_type": "code",
   "execution_count": 52,
   "id": "8568f405-df31-4cb5-a6ea-df15eae5029d",
   "metadata": {},
   "outputs": [
    {
     "data": {
      "text/plain": [
       "<tf.Tensor: shape=(10,), dtype=float32, numpy=\n",
       "array([-0.99998784, -0.99982315, -0.9974579 , -0.9640276 , -0.58278286,\n",
       "        0.58278316,  0.9640276 ,  0.99745804,  0.99982315,  0.99998784],\n",
       "      dtype=float32)>"
      ]
     },
     "execution_count": 52,
     "metadata": {},
     "output_type": "execute_result"
    }
   ],
   "source": [
    "x = tf.linspace(-6.,6.,10)\n",
    "tf.tanh(x) # tanh 激活函数"
   ]
  },
  {
   "cell_type": "markdown",
   "id": "3959bc37-c123-4144-8a11-e5558735b777",
   "metadata": {},
   "source": [
    "## 损失函数计算"
   ]
  },
  {
   "cell_type": "markdown",
   "id": "6dce34f9-c807-4de4-8c77-d13b9ef71f3d",
   "metadata": {},
   "source": [
    "#### 均方误差损失函数"
   ]
  },
  {
   "cell_type": "code",
   "execution_count": 55,
   "id": "d817c10e-1a77-43e2-823b-5a69c769627f",
   "metadata": {},
   "outputs": [],
   "source": [
    "from tensorflow import keras\n",
    "o = tf.random.normal([2,10]) # 构造网络输出\n",
    "y_onehot = tf.constant([1,3]) # 构造真实值\n",
    "y_onehot = tf.one_hot(y_onehot, depth=10)\n",
    "loss = keras.losses.MSE(y_onehot, o) # 计算均方差"
   ]
  },
  {
   "cell_type": "code",
   "execution_count": 56,
   "id": "68c623cd-5c2d-483d-966b-8c4d6876c7f2",
   "metadata": {},
   "outputs": [
    {
     "data": {
      "text/plain": [
       "<tf.Tensor: shape=(2, 10), dtype=float32, numpy=\n",
       "array([[ 0.6983636 ,  0.9311323 ,  1.2151687 , -0.3197697 ,  0.11244939,\n",
       "         1.3768651 , -0.7521975 , -1.5441525 ,  0.19541185, -0.7112191 ],\n",
       "       [ 1.277041  , -1.1982138 , -0.9851417 ,  0.3681799 , -0.52497494,\n",
       "        -2.4486415 ,  0.65530074, -0.5166455 ,  0.21156989,  0.9883786 ]],\n",
       "      dtype=float32)>"
      ]
     },
     "execution_count": 56,
     "metadata": {},
     "output_type": "execute_result"
    }
   ],
   "source": [
    "o"
   ]
  },
  {
   "cell_type": "code",
   "execution_count": 57,
   "id": "7f75fc70-555a-4070-9b2b-69fc9430eab5",
   "metadata": {},
   "outputs": [
    {
     "data": {
      "text/plain": [
       "<tf.Tensor: shape=(2, 10), dtype=float32, numpy=\n",
       "array([[0., 1., 0., 0., 0., 0., 0., 0., 0., 0.],\n",
       "       [0., 0., 0., 1., 0., 0., 0., 0., 0., 0.]], dtype=float32)>"
      ]
     },
     "execution_count": 57,
     "metadata": {},
     "output_type": "execute_result"
    }
   ],
   "source": [
    "y_onehot"
   ]
  },
  {
   "cell_type": "code",
   "execution_count": 58,
   "id": "9e2d3508-e810-4cef-bdd4-a2d8fa58df08",
   "metadata": {},
   "outputs": [
    {
     "data": {
      "text/plain": [
       "<tf.Tensor: shape=(2,), dtype=float32, numpy=array([0.7473971, 1.2425691], dtype=float32)>"
      ]
     },
     "execution_count": 58,
     "metadata": {},
     "output_type": "execute_result"
    }
   ],
   "source": [
    "loss"
   ]
  },
  {
   "cell_type": "code",
   "execution_count": 60,
   "id": "50d2e830-e31f-4070-be67-ab05a6c59a23",
   "metadata": {},
   "outputs": [],
   "source": [
    "loss = tf.reduce_mean(loss) # 计算batch 均方差"
   ]
  },
  {
   "cell_type": "code",
   "execution_count": 61,
   "id": "1045ea13-607b-442c-a134-1c2609c536a4",
   "metadata": {},
   "outputs": [
    {
     "data": {
      "text/plain": [
       "<tf.Tensor: shape=(), dtype=float32, numpy=0.9949831>"
      ]
     },
     "execution_count": 61,
     "metadata": {},
     "output_type": "execute_result"
    }
   ],
   "source": [
    "loss"
   ]
  },
  {
   "cell_type": "markdown",
   "id": "6a28e917-dcc4-41b8-942d-772dd95bcd01",
   "metadata": {},
   "source": [
    "# 创建MSE 类"
   ]
  },
  {
   "cell_type": "code",
   "execution_count": 62,
   "id": "42ecd313-4944-48ee-81ce-7bb17560d69b",
   "metadata": {},
   "outputs": [],
   "source": [
    "criteon = keras.losses.MeanSquaredError()\n",
    "loss = criteon(y_onehot,o) # 计算batch 均方差"
   ]
  },
  {
   "cell_type": "code",
   "execution_count": 63,
   "id": "a1e4ec12-fb1b-4b18-8a78-591a396028a8",
   "metadata": {},
   "outputs": [
    {
     "data": {
      "text/plain": [
       "<tf.Tensor: shape=(), dtype=float32, numpy=0.9949831>"
      ]
     },
     "execution_count": 63,
     "metadata": {},
     "output_type": "execute_result"
    }
   ],
   "source": [
    "loss"
   ]
  },
  {
   "cell_type": "markdown",
   "id": "3b3caef4-58d5-4d27-9fb6-e36960fb433b",
   "metadata": {},
   "source": [
    "#### 交叉熵损失函数"
   ]
  },
  {
   "cell_type": "code",
   "execution_count": 64,
   "id": "2a85c2ed-7bcf-409b-a768-7996cf3d75ca",
   "metadata": {},
   "outputs": [
    {
     "data": {
      "text/plain": [
       "<tf.Tensor: shape=(), dtype=float32, numpy=2.7563567>"
      ]
     },
     "execution_count": 64,
     "metadata": {},
     "output_type": "execute_result"
    }
   ],
   "source": [
    "z = tf.random.normal([2,10]) # 构造输出层的输出\n",
    "y_onehot = tf.constant([1,3]) # 构造真实值\n",
    "y_onehot = tf.one_hot(y_onehot, depth=10) # one-hot 编码\n",
    "# 输出层未使用Softmax 函数，故from_logits 设置为True\n",
    "# 这样categorical_crossentropy 函数在计算损失函数前，会先内部调用Softmax 函数\n",
    "loss = keras.losses.categorical_crossentropy(y_onehot,z,from_logits=True)\n",
    "loss = tf.reduce_mean(loss) # 计算平均交叉熵损失\n",
    "loss"
   ]
  },
  {
   "cell_type": "code",
   "execution_count": null,
   "id": "da37d0f6-a081-4fc0-a202-5e966b418344",
   "metadata": {},
   "outputs": [],
   "source": []
  },
  {
   "cell_type": "code",
   "execution_count": null,
   "id": "a2a9b0e2-0a12-4f66-bc58-bcae9812653a",
   "metadata": {},
   "outputs": [],
   "source": []
  },
  {
   "cell_type": "code",
   "execution_count": null,
   "id": "df1266fa-dc79-4325-8ec2-49c6c0ce7e4a",
   "metadata": {},
   "outputs": [],
   "source": []
  },
  {
   "cell_type": "code",
   "execution_count": null,
   "id": "69521164-c0a7-4562-935f-72128ff0af65",
   "metadata": {},
   "outputs": [],
   "source": []
  },
  {
   "cell_type": "code",
   "execution_count": null,
   "id": "e9add506-4a23-4407-a34e-ab31d0819bc5",
   "metadata": {},
   "outputs": [],
   "source": []
  },
  {
   "cell_type": "code",
   "execution_count": null,
   "id": "654e93fa-8e40-439c-bc03-772b94e2005f",
   "metadata": {},
   "outputs": [],
   "source": []
  },
  {
   "cell_type": "code",
   "execution_count": null,
   "id": "31f14cfc-e3bc-4b36-82a6-947e9e9034d2",
   "metadata": {},
   "outputs": [],
   "source": []
  },
  {
   "cell_type": "code",
   "execution_count": null,
   "id": "17c08fb4-93fc-4e7e-8120-acad26158dc0",
   "metadata": {},
   "outputs": [],
   "source": []
  },
  {
   "cell_type": "code",
   "execution_count": null,
   "id": "701f92bd-c692-4511-9f62-d571f79fb499",
   "metadata": {},
   "outputs": [],
   "source": []
  },
  {
   "cell_type": "code",
   "execution_count": null,
   "id": "390a0ea4-e985-4808-b92d-30631b1d3945",
   "metadata": {},
   "outputs": [],
   "source": []
  },
  {
   "cell_type": "code",
   "execution_count": null,
   "id": "bba1d689-063f-48c4-a5ee-4b6418a0ef05",
   "metadata": {},
   "outputs": [],
   "source": []
  }
 ],
 "metadata": {
  "kernelspec": {
   "display_name": "Python 3 (ipykernel)",
   "language": "python",
   "name": "python3"
  },
  "language_info": {
   "codemirror_mode": {
    "name": "ipython",
    "version": 3
   },
   "file_extension": ".py",
   "mimetype": "text/x-python",
   "name": "python",
   "nbconvert_exporter": "python",
   "pygments_lexer": "ipython3",
   "version": "3.8.13"
  }
 },
 "nbformat": 4,
 "nbformat_minor": 5
}
